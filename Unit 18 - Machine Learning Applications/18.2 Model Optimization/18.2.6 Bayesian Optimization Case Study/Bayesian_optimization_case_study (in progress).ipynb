{
 "cells": [
  {
   "cell_type": "markdown",
   "metadata": {
    "colab_type": "text",
    "id": "WNK7vbHo-KYU"
   },
   "source": [
    "## Bayesian methods of hyperparameter optimization (in progress)"
   ]
  },
  {
   "cell_type": "markdown",
   "metadata": {
    "colab_type": "text",
    "id": "BlFdvPwF-KYW"
   },
   "source": [
    "In addition to the random search and the grid search methods for selecting optimal hyperparameters, we can use Bayesian methods of probabilities to select the optimal hyperparameters for an algorithm.\n",
    "\n",
    "In this case study, we will be using the BayesianOptimization library to perform hyperparmater tuning. This library has very good documentation which you can find here: https://github.com/fmfn/BayesianOptimization\n",
    "\n",
    "You will need to install the Bayesian optimization module. Running a cell with an exclamation point in the beginning of the command will run it as a shell command — please do this to install this module from our notebook in the cell below."
   ]
  },
  {
   "cell_type": "code",
   "execution_count": 1,
   "metadata": {
    "colab": {},
    "colab_type": "code",
    "id": "Pssx080d-Ulf",
    "ExecuteTime": {
     "end_time": "2024-04-02T21:47:55.275927Z",
     "start_time": "2024-04-02T21:47:55.273608Z"
    }
   },
   "outputs": [],
   "source": [
    "#! pip install bayesian-optimization"
   ]
  },
  {
   "cell_type": "code",
   "execution_count": 2,
   "metadata": {
    "_kg_hide-input": true,
    "colab": {},
    "colab_type": "code",
    "id": "l9nfFTyj-KYY",
    "ExecuteTime": {
     "end_time": "2024-04-02T21:47:56.510152Z",
     "start_time": "2024-04-02T21:47:55.281802Z"
    }
   },
   "outputs": [],
   "source": [
    "import warnings\n",
    "warnings.filterwarnings('ignore')\n",
    "from sklearn.preprocessing import LabelEncoder\n",
    "import numpy as np\n",
    "import pandas as pd\n",
    "import lightgbm\n",
    "from bayes_opt import BayesianOptimization\n",
    "from catboost import CatBoostClassifier, cv, Pool"
   ]
  },
  {
   "cell_type": "code",
   "execution_count": 3,
   "metadata": {
    "colab": {
     "base_uri": "https://localhost:8080/",
     "height": 85
    },
    "colab_type": "code",
    "id": "D16Dquw1AAK0",
    "outputId": "44167587-f22e-4bf5-a816-e2bcfdc6c4ee",
    "ExecuteTime": {
     "end_time": "2024-04-02T21:47:56.515381Z",
     "start_time": "2024-04-02T21:47:56.511123Z"
    }
   },
   "outputs": [
    {
     "data": {
      "text/plain": "['flight_delays_test.csv.zip',\n '.DS_Store',\n 'Bayesian_optimization_case_study.ipynb',\n 'flight_delays_train.csv.zip',\n 'Bayesian_optimization_case_study (in progress).ipynb']"
     },
     "execution_count": 3,
     "metadata": {},
     "output_type": "execute_result"
    }
   ],
   "source": [
    "import os\n",
    "os.listdir()"
   ]
  },
  {
   "cell_type": "markdown",
   "metadata": {
    "ExecuteTime": {
     "end_time": "2019-04-22T14:48:15.929012Z",
     "start_time": "2019-04-22T14:48:15.926574Z"
    },
    "colab_type": "text",
    "id": "AkBt3yds-KYu"
   },
   "source": [
    "## How does Bayesian optimization work?"
   ]
  },
  {
   "cell_type": "markdown",
   "metadata": {
    "colab_type": "text",
    "id": "E1kyBCUs-KYv"
   },
   "source": [
    "Bayesian optimization works by constructing a posterior distribution of functions (Gaussian process) that best describes the function you want to optimize. As the number of observations grows, the posterior distribution improves, and the algorithm becomes more certain of which regions in parameter space are worth exploring and which are not, as seen in the picture below."
   ]
  },
  {
   "cell_type": "markdown",
   "source": [
    "![](https://github.com/bayesian-optimization/BayesianOptimization/raw/v1.4.2/examples/bo_example.png)"
   ],
   "metadata": {
    "collapsed": false
   }
  },
  {
   "cell_type": "markdown",
   "source": [
    "As you iterate over and over, the algorithm balances its needs of exploration and exploitation while taking into account what it knows about the target function. At each step, a Gaussian Process is fitted to the known samples (points previously explored), and the posterior distribution, combined with an exploration strategy (such as UCB — aka Upper Confidence Bound), or EI (Expected Improvement). This process is used to determine the next point that should be explored (see the gif below).\n",
    "<img src=\"https://github.com/fmfn/BayesianOptimization/raw/v1.4.2/examples/bayesian_optimization.gif\" />"
   ],
   "metadata": {
    "colab_type": "text",
    "id": "gAdHF72R-KYw"
   }
  },
  {
   "cell_type": "markdown",
   "metadata": {
    "colab_type": "text",
    "id": "RTP8KUlLoYzu"
   },
   "source": [
    "## Let's look at a simple example"
   ]
  },
  {
   "cell_type": "markdown",
   "metadata": {
    "colab_type": "text",
    "id": "crpPqKdC-KYx"
   },
   "source": [
    "The first step is to create an optimizer. It uses two items:\n",
    "* function to optimize\n",
    "* bounds of parameters\n",
    "\n",
    "The function is the procedure that counts metrics of our model quality. The important thing is that our optimization will maximize the value on function. Smaller metrics are best. Hint: don't forget to use negative metric values."
   ]
  },
  {
   "cell_type": "markdown",
   "metadata": {
    "colab_type": "text",
    "id": "e09ciF8gpTfr"
   },
   "source": [
    "Here we define our simple function we want to optimize."
   ]
  },
  {
   "cell_type": "code",
   "execution_count": 4,
   "metadata": {
    "colab": {},
    "colab_type": "code",
    "id": "ofwvnfEwo5mG",
    "ExecuteTime": {
     "end_time": "2024-04-02T21:47:56.518277Z",
     "start_time": "2024-04-02T21:47:56.516439Z"
    }
   },
   "outputs": [],
   "source": [
    "def simple_func(a, b):\n",
    "    return a + b"
   ]
  },
  {
   "cell_type": "markdown",
   "metadata": {
    "colab_type": "text",
    "id": "XCGsdciCpeI3"
   },
   "source": [
    "Now, we define our bounds of the parameters to optimize, within the Bayesian optimizer."
   ]
  },
  {
   "cell_type": "code",
   "execution_count": 5,
   "metadata": {
    "colab": {},
    "colab_type": "code",
    "id": "4jLYW2qnpOFr",
    "ExecuteTime": {
     "end_time": "2024-04-02T21:47:56.521404Z",
     "start_time": "2024-04-02T21:47:56.519379Z"
    }
   },
   "outputs": [],
   "source": [
    "optimizer = BayesianOptimization(\n",
    "    simple_func,\n",
    "    {'a': (1, 3),\n",
    "    'b': (4, 7)})"
   ]
  },
  {
   "cell_type": "markdown",
   "metadata": {
    "colab_type": "text",
    "id": "dg6LdYx8pq2T"
   },
   "source": [
    "These are the main parameters of this function:\n",
    "\n",
    "* **n_iter:** This is how many steps of Bayesian optimization you want to perform. The more steps, the more likely you are to find a good maximum.\n",
    "\n",
    "* **init_points:** This is how many steps of random exploration you want to perform. Random exploration can help by diversifying the exploration space."
   ]
  },
  {
   "cell_type": "markdown",
   "metadata": {
    "colab_type": "text",
    "id": "i-GKMJ1uqMYv"
   },
   "source": [
    "Let's run an example where we use the optimizer to find the best values to maximize the target value for a and b given the inputs of 3 and 2."
   ]
  },
  {
   "cell_type": "code",
   "execution_count": 6,
   "metadata": {
    "colab": {
     "base_uri": "https://localhost:8080/",
     "height": 153
    },
    "colab_type": "code",
    "id": "Oy44Ro7wqNat",
    "outputId": "9cc64d54-b1e6-46d1-dc29-4c0039a1c72d",
    "ExecuteTime": {
     "end_time": "2024-04-02T21:47:56.624716Z",
     "start_time": "2024-04-02T21:47:56.521976Z"
    }
   },
   "outputs": [
    {
     "name": "stdout",
     "output_type": "stream",
     "text": [
      "|   iter    |  target   |     a     |     b     |\n",
      "-------------------------------------------------\n",
      "| \u001B[0m1        \u001B[0m | \u001B[0m7.371    \u001B[0m | \u001B[0m2.453    \u001B[0m | \u001B[0m4.918    \u001B[0m |\n",
      "| \u001B[0m2        \u001B[0m | \u001B[0m5.57     \u001B[0m | \u001B[0m1.293    \u001B[0m | \u001B[0m4.277    \u001B[0m |\n",
      "| \u001B[95m3        \u001B[0m | \u001B[95m9.191    \u001B[0m | \u001B[95m2.268    \u001B[0m | \u001B[95m6.924    \u001B[0m |\n",
      "| \u001B[95m4        \u001B[0m | \u001B[95m9.531    \u001B[0m | \u001B[95m2.69     \u001B[0m | \u001B[95m6.841    \u001B[0m |\n",
      "| \u001B[0m5        \u001B[0m | \u001B[0m9.166    \u001B[0m | \u001B[0m3.0      \u001B[0m | \u001B[0m6.166    \u001B[0m |\n",
      "=================================================\n"
     ]
    }
   ],
   "source": [
    "optimizer.maximize(3,2)"
   ]
  },
  {
   "cell_type": "markdown",
   "metadata": {
    "colab_type": "text",
    "id": "tyKFMF2Hq2Sx"
   },
   "source": [
    "Great, now let's print the best parameters and the associated maximized target."
   ]
  },
  {
   "cell_type": "code",
   "execution_count": 7,
   "metadata": {
    "colab": {
     "base_uri": "https://localhost:8080/",
     "height": 51
    },
    "colab_type": "code",
    "id": "_H6DixyfscV_",
    "outputId": "fd0c35d7-e30d-4d30-9ab2-12c0fa837971",
    "ExecuteTime": {
     "end_time": "2024-04-02T21:47:56.666243Z",
     "start_time": "2024-04-02T21:47:56.638515Z"
    }
   },
   "outputs": [
    {
     "name": "stdout",
     "output_type": "stream",
     "text": [
      "{'a': 2.6899395044478096, 'b': 6.8414557389325275}\n"
     ]
    },
    {
     "data": {
      "text/plain": "9.531395243380338"
     },
     "execution_count": 7,
     "metadata": {},
     "output_type": "execute_result"
    }
   ],
   "source": [
    "print(optimizer.max['params']);optimizer.max['target']"
   ]
  },
  {
   "cell_type": "markdown",
   "metadata": {
    "colab_type": "text",
    "id": "tQ1T1V6Mspi4"
   },
   "source": [
    "## Test it on real data using the Light GBM"
   ]
  },
  {
   "cell_type": "markdown",
   "metadata": {
    "colab_type": "text",
    "id": "y_oGwREZkm4h"
   },
   "source": [
    "The dataset we will be working with is the famous flight departures dataset. Our modeling goal will be to predict if a flight departure is going to be delayed by 15 minutes based on the other attributes in our dataset. As part of this modeling exercise, we will use Bayesian hyperparameter optimization to identify the best parameters for our model."
   ]
  },
  {
   "cell_type": "markdown",
   "metadata": {
    "colab_type": "text",
    "id": "abYSagjQANDZ"
   },
   "source": [
    "**<font color='teal'> You can load the zipped csv files just as you would regular csv files using Pandas read_csv. In the next cell load the train and test data into two seperate dataframes. </font>**\n"
   ]
  },
  {
   "cell_type": "code",
   "execution_count": 8,
   "metadata": {
    "colab": {},
    "colab_type": "code",
    "id": "EWKBApVuAeJe",
    "ExecuteTime": {
     "end_time": "2024-04-02T21:47:56.800957Z",
     "start_time": "2024-04-02T21:47:56.667825Z"
    }
   },
   "outputs": [],
   "source": [
    "train_df = pd.read_csv('flight_delays_train.csv.zip')\n",
    "test_df = pd.read_csv('flight_delays_test.csv.zip')"
   ]
  },
  {
   "cell_type": "markdown",
   "metadata": {
    "colab_type": "text",
    "id": "OapNcT9Eikis"
   },
   "source": [
    "**<font color='teal'> Print the top five rows of the train dataframe and review the columns in the data. </font>**"
   ]
  },
  {
   "cell_type": "code",
   "execution_count": 9,
   "metadata": {
    "colab": {
     "base_uri": "https://localhost:8080/",
     "height": 204
    },
    "colab_type": "code",
    "id": "__4cXZ8iiYaC",
    "outputId": "8718ad4b-8955-486c-9ae8-1dee6aa6c2fb",
    "ExecuteTime": {
     "end_time": "2024-04-02T21:47:56.811481Z",
     "start_time": "2024-04-02T21:47:56.803114Z"
    }
   },
   "outputs": [
    {
     "data": {
      "text/plain": "  Month DayofMonth DayOfWeek  DepTime UniqueCarrier Origin Dest  Distance  \\\n0   c-8       c-21       c-7     1934            AA    ATL  DFW       732   \n1   c-4       c-20       c-3     1548            US    PIT  MCO       834   \n2   c-9        c-2       c-5     1422            XE    RDU  CLE       416   \n3  c-11       c-25       c-6     1015            OO    DEN  MEM       872   \n4  c-10        c-7       c-6     1828            WN    MDW  OMA       423   \n\n  dep_delayed_15min  \n0                 N  \n1                 N  \n2                 N  \n3                 N  \n4                 Y  ",
      "text/html": "<div>\n<style scoped>\n    .dataframe tbody tr th:only-of-type {\n        vertical-align: middle;\n    }\n\n    .dataframe tbody tr th {\n        vertical-align: top;\n    }\n\n    .dataframe thead th {\n        text-align: right;\n    }\n</style>\n<table border=\"1\" class=\"dataframe\">\n  <thead>\n    <tr style=\"text-align: right;\">\n      <th></th>\n      <th>Month</th>\n      <th>DayofMonth</th>\n      <th>DayOfWeek</th>\n      <th>DepTime</th>\n      <th>UniqueCarrier</th>\n      <th>Origin</th>\n      <th>Dest</th>\n      <th>Distance</th>\n      <th>dep_delayed_15min</th>\n    </tr>\n  </thead>\n  <tbody>\n    <tr>\n      <th>0</th>\n      <td>c-8</td>\n      <td>c-21</td>\n      <td>c-7</td>\n      <td>1934</td>\n      <td>AA</td>\n      <td>ATL</td>\n      <td>DFW</td>\n      <td>732</td>\n      <td>N</td>\n    </tr>\n    <tr>\n      <th>1</th>\n      <td>c-4</td>\n      <td>c-20</td>\n      <td>c-3</td>\n      <td>1548</td>\n      <td>US</td>\n      <td>PIT</td>\n      <td>MCO</td>\n      <td>834</td>\n      <td>N</td>\n    </tr>\n    <tr>\n      <th>2</th>\n      <td>c-9</td>\n      <td>c-2</td>\n      <td>c-5</td>\n      <td>1422</td>\n      <td>XE</td>\n      <td>RDU</td>\n      <td>CLE</td>\n      <td>416</td>\n      <td>N</td>\n    </tr>\n    <tr>\n      <th>3</th>\n      <td>c-11</td>\n      <td>c-25</td>\n      <td>c-6</td>\n      <td>1015</td>\n      <td>OO</td>\n      <td>DEN</td>\n      <td>MEM</td>\n      <td>872</td>\n      <td>N</td>\n    </tr>\n    <tr>\n      <th>4</th>\n      <td>c-10</td>\n      <td>c-7</td>\n      <td>c-6</td>\n      <td>1828</td>\n      <td>WN</td>\n      <td>MDW</td>\n      <td>OMA</td>\n      <td>423</td>\n      <td>Y</td>\n    </tr>\n  </tbody>\n</table>\n</div>"
     },
     "execution_count": 9,
     "metadata": {},
     "output_type": "execute_result"
    }
   ],
   "source": [
    "train_df.head()"
   ]
  },
  {
   "cell_type": "markdown",
   "metadata": {
    "colab_type": "text",
    "id": "UxGBsPQhffgd"
   },
   "source": [
    "**<font color='teal'> Use the describe function to review the numeric columns in the train dataframe. </font>**"
   ]
  },
  {
   "cell_type": "code",
   "execution_count": 10,
   "metadata": {
    "colab": {
     "base_uri": "https://localhost:8080/",
     "height": 297
    },
    "colab_type": "code",
    "id": "_bRRKG3DAtae",
    "outputId": "7cfb9975-ec97-422c-abbd-98923a0b7aec",
    "ExecuteTime": {
     "end_time": "2024-04-02T21:47:56.827103Z",
     "start_time": "2024-04-02T21:47:56.813506Z"
    }
   },
   "outputs": [
    {
     "data": {
      "text/plain": "             DepTime      Distance\ncount  100000.000000  100000.00000\nmean     1341.523880     729.39716\nstd       476.378445     574.61686\nmin         1.000000      30.00000\n25%       931.000000     317.00000\n50%      1330.000000     575.00000\n75%      1733.000000     957.00000\nmax      2534.000000    4962.00000",
      "text/html": "<div>\n<style scoped>\n    .dataframe tbody tr th:only-of-type {\n        vertical-align: middle;\n    }\n\n    .dataframe tbody tr th {\n        vertical-align: top;\n    }\n\n    .dataframe thead th {\n        text-align: right;\n    }\n</style>\n<table border=\"1\" class=\"dataframe\">\n  <thead>\n    <tr style=\"text-align: right;\">\n      <th></th>\n      <th>DepTime</th>\n      <th>Distance</th>\n    </tr>\n  </thead>\n  <tbody>\n    <tr>\n      <th>count</th>\n      <td>100000.000000</td>\n      <td>100000.00000</td>\n    </tr>\n    <tr>\n      <th>mean</th>\n      <td>1341.523880</td>\n      <td>729.39716</td>\n    </tr>\n    <tr>\n      <th>std</th>\n      <td>476.378445</td>\n      <td>574.61686</td>\n    </tr>\n    <tr>\n      <th>min</th>\n      <td>1.000000</td>\n      <td>30.00000</td>\n    </tr>\n    <tr>\n      <th>25%</th>\n      <td>931.000000</td>\n      <td>317.00000</td>\n    </tr>\n    <tr>\n      <th>50%</th>\n      <td>1330.000000</td>\n      <td>575.00000</td>\n    </tr>\n    <tr>\n      <th>75%</th>\n      <td>1733.000000</td>\n      <td>957.00000</td>\n    </tr>\n    <tr>\n      <th>max</th>\n      <td>2534.000000</td>\n      <td>4962.00000</td>\n    </tr>\n  </tbody>\n</table>\n</div>"
     },
     "execution_count": 10,
     "metadata": {},
     "output_type": "execute_result"
    }
   ],
   "source": [
    "train_df.describe()"
   ]
  },
  {
   "cell_type": "markdown",
   "metadata": {
    "colab_type": "text",
    "id": "i6k-_fI5Aiyh"
   },
   "source": [
    "Notice, `DepTime` is the departure time in a numeric representation in 2400 hours. "
   ]
  },
  {
   "cell_type": "markdown",
   "metadata": {
    "colab_type": "text",
    "id": "gtZS4-hrlQah"
   },
   "source": [
    " **<font color='teal'>The response variable is 'dep_delayed_15min' which is a categorical column, so we need to map the Y for yes and N for no values to 1 and 0. Run the code in the next cell to do this.</font>**"
   ]
  },
  {
   "cell_type": "code",
   "execution_count": 11,
   "metadata": {
    "colab": {},
    "colab_type": "code",
    "id": "yRlOTbnW-KYc",
    "ExecuteTime": {
     "end_time": "2024-04-02T21:47:56.847255Z",
     "start_time": "2024-04-02T21:47:56.838170Z"
    }
   },
   "outputs": [],
   "source": [
    "#train_df = train_df[train_df.DepTime <= 2400].copy()\n",
    "y_train = train_df['dep_delayed_15min'].map({'Y': 1, 'N': 0}).values"
   ]
  },
  {
   "cell_type": "markdown",
   "metadata": {
    "colab_type": "text",
    "id": "z3WPkFQO9uo9"
   },
   "source": [
    "## Feature Engineering\n",
    "Use these defined functions to create additional features for the model. Run the cell to add the functions to your workspace."
   ]
  },
  {
   "cell_type": "code",
   "execution_count": 12,
   "metadata": {
    "colab": {},
    "colab_type": "code",
    "id": "cXqsqz5W9t3r",
    "ExecuteTime": {
     "end_time": "2024-04-02T21:47:56.862245Z",
     "start_time": "2024-04-02T21:47:56.850375Z"
    }
   },
   "outputs": [],
   "source": [
    "def label_enc(df_column):\n",
    "    df_column = LabelEncoder().fit_transform(df_column)\n",
    "    return df_column\n",
    "\n",
    "def make_harmonic_features_sin(value, period=2400):\n",
    "    value *= 2 * np.pi / period \n",
    "    return np.sin(value)\n",
    "\n",
    "def make_harmonic_features_cos(value, period=2400):\n",
    "    value *= 2 * np.pi / period \n",
    "    return np.cos(value)\n",
    "\n",
    "def feature_eng(df):\n",
    "    df['flight'] = df['Origin']+df['Dest']\n",
    "    df['Month'] = df.Month.map(lambda x: x.split('-')[-1]).astype('int32')\n",
    "    df['DayofMonth'] = df.DayofMonth.map(lambda x: x.split('-')[-1]).astype('uint8')\n",
    "    df['begin_of_month'] = (df['DayofMonth'] < 10).astype('uint8')\n",
    "    df['midddle_of_month'] = ((df['DayofMonth'] >= 10)&(df['DayofMonth'] < 20)).astype('uint8')\n",
    "    df['end_of_month'] = (df['DayofMonth'] >= 20).astype('uint8')\n",
    "    df['DayOfWeek'] = df.DayOfWeek.map(lambda x: x.split('-')[-1]).astype('uint8')\n",
    "    df['hour'] = df.DepTime.map(lambda x: x/100).astype('int32')\n",
    "    df['morning'] = df['hour'].map(lambda x: 1 if (x <= 11)& (x >= 7) else 0).astype('uint8')\n",
    "    df['day'] = df['hour'].map(lambda x: 1 if (x >= 12) & (x <= 18) else 0).astype('uint8')\n",
    "    df['evening'] = df['hour'].map(lambda x: 1 if (x >= 19) & (x <= 23) else 0).astype('uint8')\n",
    "    df['night'] = df['hour'].map(lambda x: 1 if (x >= 0) & (x <= 6) else 0).astype('int32')\n",
    "    df['winter'] = df['Month'].map(lambda x: x in [12, 1, 2]).astype('int32')\n",
    "    df['spring'] = df['Month'].map(lambda x: x in [3, 4, 5]).astype('int32')\n",
    "    df['summer'] = df['Month'].map(lambda x: x in [6, 7, 8]).astype('int32')\n",
    "    df['autumn'] = df['Month'].map(lambda x: x in [9, 10, 11]).astype('int32')\n",
    "    df['holiday'] = (df['DayOfWeek'] >= 5).astype(int) \n",
    "    df['weekday'] = (df['DayOfWeek'] < 5).astype(int)\n",
    "    df['airport_dest_per_month'] = df.groupby(['Dest', 'Month'])['Dest'].transform('count')\n",
    "    df['airport_origin_per_month'] = df.groupby(['Origin', 'Month'])['Origin'].transform('count')\n",
    "    df['airport_dest_count'] = df.groupby(['Dest'])['Dest'].transform('count')\n",
    "    df['airport_origin_count'] = df.groupby(['Origin'])['Origin'].transform('count')\n",
    "    df['carrier_count'] = df.groupby(['UniqueCarrier'])['Dest'].transform('count')\n",
    "    df['carrier_count_per month'] = df.groupby(['UniqueCarrier', 'Month'])['Dest'].transform('count')\n",
    "    df['deptime_cos'] = df['DepTime'].map(make_harmonic_features_cos)\n",
    "    df['deptime_sin'] = df['DepTime'].map(make_harmonic_features_sin)\n",
    "    df['flightUC'] = df['flight']+df['UniqueCarrier']\n",
    "    df['DestUC'] = df['Dest']+df['UniqueCarrier']\n",
    "    df['OriginUC'] = df['Origin']+df['UniqueCarrier']\n",
    "    return df.drop('DepTime', axis=1)"
   ]
  },
  {
   "cell_type": "markdown",
   "metadata": {
    "colab_type": "text",
    "id": "-BYbxXpU-FGE"
   },
   "source": [
    "Concatenate the training and testing dataframes.\n"
   ]
  },
  {
   "cell_type": "code",
   "execution_count": 13,
   "metadata": {
    "colab": {},
    "colab_type": "code",
    "id": "Cj6bfSNw_RAf",
    "ExecuteTime": {
     "end_time": "2024-04-02T21:47:57.716592Z",
     "start_time": "2024-04-02T21:47:56.864815Z"
    }
   },
   "outputs": [
    {
     "data": {
      "text/plain": "0    DFW\n1    MCO\n2    CLE\n3    MEM\n4    OMA\n5    MCO\n6    LGA\n7    CVG\n8    DFW\n9    PSC\nName: Dest, dtype: object"
     },
     "execution_count": 13,
     "metadata": {},
     "output_type": "execute_result"
    }
   ],
   "source": [
    "full_df = pd.concat([train_df.drop('dep_delayed_15min', axis=1), test_df])\n",
    "full_df = feature_eng(full_df)\n",
    "full_df.head(10)['Dest']"
   ]
  },
  {
   "cell_type": "markdown",
   "metadata": {
    "colab_type": "text",
    "id": "GSO8JbfM_W-F"
   },
   "source": [
    "Apply the earlier defined feature engineering functions to the full dataframe."
   ]
  },
  {
   "cell_type": "code",
   "execution_count": 14,
   "metadata": {
    "colab": {},
    "colab_type": "code",
    "id": "x6RfAINftjwi",
    "ExecuteTime": {
     "end_time": "2024-04-02T21:47:57.888370Z",
     "start_time": "2024-04-02T21:47:57.717288Z"
    }
   },
   "outputs": [
    {
     "data": {
      "text/plain": "0     82\n1    180\n2     62\n3    184\n4    210\n5    180\n6    166\n7     74\n8     82\n9    230\nName: Dest, dtype: int64"
     },
     "execution_count": 14,
     "metadata": {},
     "output_type": "execute_result"
    }
   ],
   "source": [
    "for column in ['UniqueCarrier', 'Origin', 'Dest','flight',  'flightUC', 'DestUC', 'OriginUC']:\n",
    "    full_df[column] = label_enc(full_df[column])\n",
    "    \n",
    "full_df.head(10)['Dest']"
   ]
  },
  {
   "cell_type": "markdown",
   "metadata": {
    "colab_type": "text",
    "id": "IJAw1RGB_ZuM"
   },
   "source": [
    "\n",
    "Split the new full dataframe into X_train and X_test. "
   ]
  },
  {
   "cell_type": "code",
   "execution_count": 15,
   "metadata": {
    "colab": {},
    "colab_type": "code",
    "id": "15cPtQU5tjfz",
    "ExecuteTime": {
     "end_time": "2024-04-02T21:47:57.891289Z",
     "start_time": "2024-04-02T21:47:57.889053Z"
    }
   },
   "outputs": [],
   "source": [
    "X_train = full_df[:train_df.shape[0]]\n",
    "X_test = full_df[train_df.shape[0]:]"
   ]
  },
  {
   "cell_type": "markdown",
   "metadata": {
    "colab_type": "text",
    "id": "umfAw-9JErLV"
   },
   "source": [
    "Create a list of the categorical features."
   ]
  },
  {
   "cell_type": "code",
   "execution_count": 16,
   "metadata": {
    "colab": {},
    "colab_type": "code",
    "id": "5ibeVyNb-KZI",
    "ExecuteTime": {
     "end_time": "2024-04-02T21:47:57.893347Z",
     "start_time": "2024-04-02T21:47:57.891807Z"
    }
   },
   "outputs": [],
   "source": [
    "categorical_features = ['Month',  'DayOfWeek', 'UniqueCarrier', 'Origin', 'Dest','flight',  'flightUC', 'DestUC', 'OriginUC']"
   ]
  },
  {
   "cell_type": "markdown",
   "metadata": {
    "colab_type": "text",
    "id": "NzMIsMPIETVk"
   },
   "source": [
    "Let's build a light GBM model to test the bayesian optimizer."
   ]
  },
  {
   "cell_type": "markdown",
   "metadata": {
    "ExecuteTime": {
     "end_time": "2019-04-22T15:18:04.466965Z",
     "start_time": "2019-04-22T15:18:04.457992Z"
    },
    "colab_type": "text",
    "id": "2hfm1i5G-KZH"
   },
   "source": [
    "### [LightGBM](https://lightgbm.readthedocs.io/en/latest/) is a gradient boosting framework that uses tree-based learning algorithms. It is designed to be distributed and efficient with the following advantages:\n",
    "\n",
    "* Faster training speed and higher efficiency.\n",
    "* Lower memory usage.\n",
    "* Better accuracy.\n",
    "* Support of parallel and GPU learning.\n",
    "* Capable of handling large-scale data."
   ]
  },
  {
   "cell_type": "markdown",
   "metadata": {
    "colab_type": "text",
    "id": "jf-3F2Wg-KZL"
   },
   "source": [
    "First, we define the function we want to maximize and that will count cross-validation metrics of lightGBM for our parameters.\n",
    "\n",
    "Some params such as num_leaves, max_depth, min_child_samples, min_data_in_leaf should be integers."
   ]
  },
  {
   "cell_type": "code",
   "execution_count": 38,
   "metadata": {
    "colab": {},
    "colab_type": "code",
    "id": "LyUJBhGX-KZM",
    "ExecuteTime": {
     "end_time": "2024-04-03T00:22:56.059612Z",
     "start_time": "2024-04-03T00:22:56.053519Z"
    }
   },
   "outputs": [],
   "source": [
    "def lgb_eval(num_leaves,max_depth,lambda_l2,lambda_l1,min_child_samples, min_data_in_leaf):\n",
    "    params = {\n",
    "        \"objective\" : \"binary\",\n",
    "        \"metric\" : \"auc\", \n",
    "        'is_unbalance': True,\n",
    "        \"num_leaves\" : int(num_leaves),\n",
    "        \"max_depth\" : int(max_depth),\n",
    "        \"lambda_l2\" : lambda_l2,\n",
    "        \"lambda_l1\" : lambda_l1,\n",
    "        \"num_threads\" : 20,\n",
    "        \"min_child_samples\" : int(min_child_samples),\n",
    "        'min_data_in_leaf': int(min_data_in_leaf),\n",
    "        \"learning_rate\" : 0.03,\n",
    "        \"subsample_freq\" : 5,\n",
    "        \"bagging_seed\" : 42,\n",
    "        \"verbosity\" : -1\n",
    "    }\n",
    "    lgtrain = lightgbm.Dataset(X_train, y_train,categorical_feature=categorical_features)\n",
    "    cv_result = lightgbm.cv(params,\n",
    "                       train_set=lgtrain,\n",
    "                       num_boost_round=1000,\n",
    "                       stratified=True,\n",
    "                       nfold=3,\n",
    "                       callbacks=[lightgbm.early_stopping(stopping_rounds=100),]\n",
    "    )\n",
    "    print(f\"{cv_result['valid auc-mean'][-1]=} ± {cv_result['valid auc-stdv'][-1]=}\")\n",
    "    return cv_result['valid auc-mean'][-1]"
   ]
  },
  {
   "cell_type": "markdown",
   "metadata": {
    "colab_type": "text",
    "id": "FJwqBhdeF11Q"
   },
   "source": [
    "Apply the Bayesian optimizer to the function we created in the previous step to identify the best hyperparameters. We will run 10 iterations and set init_points = 2.\n"
   ]
  },
  {
   "cell_type": "code",
   "execution_count": 39,
   "metadata": {
    "colab": {
     "base_uri": "https://localhost:8080/",
     "height": 51
    },
    "colab_type": "code",
    "id": "JheCOkUE-KZP",
    "outputId": "8f37ee51-885d-44e4-cdcd-ceb7abd58b61",
    "ExecuteTime": {
     "end_time": "2024-04-03T00:29:32.312029Z",
     "start_time": "2024-04-03T00:23:01.604903Z"
    }
   },
   "outputs": [
    {
     "name": "stdout",
     "output_type": "stream",
     "text": [
      "|   iter    |  target   | lambda_l1 | lambda_l2 | max_depth | min_ch... | min_da... | num_le... |\n",
      "-------------------------------------------------------------------------------------------------\n",
      "Training until validation scores don't improve for 100 rounds\n",
      "Early stopping, best iteration is:\n",
      "[36]\tcv_agg's valid auc: 0.719551 + 0.00394864\n",
      "cv_result['valid auc-mean'][-1]=0.719551163461556 ± cv_result['valid auc-stdv'][-1]=0.003948644548918745\n",
      "| \u001B[0m1        \u001B[0m | \u001B[0m0.7196   \u001B[0m | \u001B[0m0.01884  \u001B[0m | \u001B[0m0.04425  \u001B[0m | \u001B[0m34.23    \u001B[0m | \u001B[0m914.9    \u001B[0m | \u001B[0m467.4    \u001B[0m | \u001B[0m3.195e+03\u001B[0m |\n",
      "Training until validation scores don't improve for 100 rounds\n",
      "Early stopping, best iteration is:\n",
      "[843]\tcv_agg's valid auc: 0.743307 + 0.00424054\n",
      "cv_result['valid auc-mean'][-1]=0.7433069894060039 ± cv_result['valid auc-stdv'][-1]=0.00424054317628242\n",
      "| \u001B[95m2        \u001B[0m | \u001B[95m0.7433   \u001B[0m | \u001B[95m0.03536  \u001B[0m | \u001B[95m0.04002  \u001B[0m | \u001B[95m59.68    \u001B[0m | \u001B[95m1.823e+03\u001B[0m | \u001B[95m1.616e+03\u001B[0m | \u001B[95m1.304e+03\u001B[0m |\n",
      "Training until validation scores don't improve for 100 rounds\n",
      "Early stopping, best iteration is:\n",
      "[762]\tcv_agg's valid auc: 0.74318 + 0.00501758\n",
      "cv_result['valid auc-mean'][-1]=0.743180148592813 ± cv_result['valid auc-stdv'][-1]=0.005017581561575923\n",
      "| \u001B[0m3        \u001B[0m | \u001B[0m0.7432   \u001B[0m | \u001B[0m0.04003  \u001B[0m | \u001B[0m0.04516  \u001B[0m | \u001B[0m29.17    \u001B[0m | \u001B[0m1.412e+03\u001B[0m | \u001B[0m1.919e+03\u001B[0m | \u001B[0m2.19e+03 \u001B[0m |\n",
      "Training until validation scores don't improve for 100 rounds\n",
      "Early stopping, best iteration is:\n",
      "[883]\tcv_agg's valid auc: 0.743673 + 0.00464566\n",
      "cv_result['valid auc-mean'][-1]=0.7436731307482947 ± cv_result['valid auc-stdv'][-1]=0.004645660350681269\n",
      "| \u001B[95m4        \u001B[0m | \u001B[95m0.7437   \u001B[0m | \u001B[95m0.007833 \u001B[0m | \u001B[95m0.0004201\u001B[0m | \u001B[95m18.21    \u001B[0m | \u001B[95m2.802e+03\u001B[0m | \u001B[95m1.944e+03\u001B[0m | \u001B[95m2.189e+03\u001B[0m |\n",
      "Training until validation scores don't improve for 100 rounds\n",
      "Did not meet early stopping. Best iteration is:\n",
      "[958]\tcv_agg's valid auc: 0.743359 + 0.00423688\n",
      "cv_result['valid auc-mean'][-1]=0.7433590001110616 ± cv_result['valid auc-stdv'][-1]=0.0042368783479962355\n",
      "| \u001B[0m5        \u001B[0m | \u001B[0m0.7434   \u001B[0m | \u001B[0m0.03083  \u001B[0m | \u001B[0m0.03243  \u001B[0m | \u001B[0m30.13    \u001B[0m | \u001B[0m3.752e+03\u001B[0m | \u001B[0m1.902e+03\u001B[0m | \u001B[0m245.3    \u001B[0m |\n",
      "Training until validation scores don't improve for 100 rounds\n",
      "Did not meet early stopping. Best iteration is:\n",
      "[949]\tcv_agg's valid auc: 0.743536 + 0.00446158\n",
      "cv_result['valid auc-mean'][-1]=0.7435358115280594 ± cv_result['valid auc-stdv'][-1]=0.004461576214778966\n",
      "| \u001B[0m6        \u001B[0m | \u001B[0m0.7435   \u001B[0m | \u001B[0m0.04308  \u001B[0m | \u001B[0m0.02848  \u001B[0m | \u001B[0m56.55    \u001B[0m | \u001B[0m5.127e+03\u001B[0m | \u001B[0m1.881e+03\u001B[0m | \u001B[0m1.843e+03\u001B[0m |\n",
      "Training until validation scores don't improve for 100 rounds\n",
      "Did not meet early stopping. Best iteration is:\n",
      "[928]\tcv_agg's valid auc: 0.743444 + 0.00445396\n",
      "cv_result['valid auc-mean'][-1]=0.7434440526389409 ± cv_result['valid auc-stdv'][-1]=0.004453962366825485\n",
      "| \u001B[0m7        \u001B[0m | \u001B[0m0.7434   \u001B[0m | \u001B[0m0.03272  \u001B[0m | \u001B[0m0.04686  \u001B[0m | \u001B[0m59.39    \u001B[0m | \u001B[0m2.82e+03 \u001B[0m | \u001B[0m1.853e+03\u001B[0m | \u001B[0m2.084e+03\u001B[0m |\n",
      "Training until validation scores don't improve for 100 rounds\n",
      "Did not meet early stopping. Best iteration is:\n",
      "[922]\tcv_agg's valid auc: 0.743617 + 0.00437553\n",
      "cv_result['valid auc-mean'][-1]=0.7436174654909559 ± cv_result['valid auc-stdv'][-1]=0.004375526429266212\n",
      "| \u001B[0m8        \u001B[0m | \u001B[0m0.7436   \u001B[0m | \u001B[0m0.001125 \u001B[0m | \u001B[0m0.001958 \u001B[0m | \u001B[0m35.98    \u001B[0m | \u001B[0m7.807e+03\u001B[0m | \u001B[0m1.885e+03\u001B[0m | \u001B[0m60.54    \u001B[0m |\n",
      "Training until validation scores don't improve for 100 rounds\n",
      "Early stopping, best iteration is:\n",
      "[834]\tcv_agg's valid auc: 0.743353 + 0.00476241\n",
      "cv_result['valid auc-mean'][-1]=0.7433526642430124 ± cv_result['valid auc-stdv'][-1]=0.00476241225119143\n",
      "| \u001B[0m9        \u001B[0m | \u001B[0m0.7434   \u001B[0m | \u001B[0m0.009763 \u001B[0m | \u001B[0m0.04454  \u001B[0m | \u001B[0m62.95    \u001B[0m | \u001B[0m8.274e+03\u001B[0m | \u001B[0m1.839e+03\u001B[0m | \u001B[0m3.091e+03\u001B[0m |\n",
      "Training until validation scores don't improve for 100 rounds\n",
      "Did not meet early stopping. Best iteration is:\n",
      "[1000]\tcv_agg's valid auc: 0.743694 + 0.00446391\n",
      "cv_result['valid auc-mean'][-1]=0.7436936414548118 ± cv_result['valid auc-stdv'][-1]=0.004463907043350914\n",
      "| \u001B[95m10       \u001B[0m | \u001B[95m0.7437   \u001B[0m | \u001B[95m0.0365   \u001B[0m | \u001B[95m0.003138 \u001B[0m | \u001B[95m36.59    \u001B[0m | \u001B[95m3.763e+03\u001B[0m | \u001B[95m1.862e+03\u001B[0m | \u001B[95m240.7    \u001B[0m |\n",
      "Training until validation scores don't improve for 100 rounds\n",
      "Did not meet early stopping. Best iteration is:\n",
      "[1000]\tcv_agg's valid auc: 0.742197 + 0.00451547\n",
      "cv_result['valid auc-mean'][-1]=0.7421969169637374 ± cv_result['valid auc-stdv'][-1]=0.004515466858784923\n",
      "| \u001B[0m11       \u001B[0m | \u001B[0m0.7422   \u001B[0m | \u001B[0m0.007146 \u001B[0m | \u001B[0m0.04251  \u001B[0m | \u001B[0m5.817    \u001B[0m | \u001B[0m9.212e+03\u001B[0m | \u001B[0m1.992e+03\u001B[0m | \u001B[0m2.834e+03\u001B[0m |\n",
      "Training until validation scores don't improve for 100 rounds\n",
      "Early stopping, best iteration is:\n",
      "[725]\tcv_agg's valid auc: 0.742815 + 0.00400667\n",
      "cv_result['valid auc-mean'][-1]=0.7428149885179445 ± cv_result['valid auc-stdv'][-1]=0.00400667334210844\n",
      "| \u001B[0m12       \u001B[0m | \u001B[0m0.7428   \u001B[0m | \u001B[0m0.03721  \u001B[0m | \u001B[0m0.01133  \u001B[0m | \u001B[0m16.42    \u001B[0m | \u001B[0m2.709e+03\u001B[0m | \u001B[0m1.258e+03\u001B[0m | \u001B[0m982.9    \u001B[0m |\n",
      "=================================================================================================\n"
     ]
    }
   ],
   "source": [
    "lgbBO = BayesianOptimization(lgb_eval, {'num_leaves': (25, 4000),\n",
    "                                                'max_depth': (5, 63),\n",
    "                                                'lambda_l2': (0.0, 0.05),\n",
    "                                                'lambda_l1': (0.0, 0.05),\n",
    "                                                'min_child_samples': (50, 10000),\n",
    "                                                'min_data_in_leaf': (100, 2000)\n",
    "                                                })\n",
    "\n",
    "lgbBO.maximize(n_iter=10, init_points=2)"
   ]
  },
  {
   "cell_type": "markdown",
   "metadata": {
    "colab_type": "text",
    "id": "rdkxhhST-KZS"
   },
   "source": [
    " **<font color='teal'> Print the best result by using the '.max' function.</font>**"
   ]
  },
  {
   "cell_type": "code",
   "execution_count": 40,
   "metadata": {
    "colab": {},
    "colab_type": "code",
    "id": "oc8z6mfy-KZS",
    "ExecuteTime": {
     "end_time": "2024-04-03T00:29:45.636836Z",
     "start_time": "2024-04-03T00:29:45.633878Z"
    }
   },
   "outputs": [
    {
     "data": {
      "text/plain": "{'target': 0.7436936414548118,\n 'params': {'lambda_l1': 0.03650213622173989,\n  'lambda_l2': 0.003137725113800666,\n  'max_depth': 36.589914954263634,\n  'min_child_samples': 3763.050822953867,\n  'min_data_in_leaf': 1862.0941477775348,\n  'num_leaves': 240.71965222785164}}"
     },
     "execution_count": 40,
     "metadata": {},
     "output_type": "execute_result"
    }
   ],
   "source": [
    "lgbBO.max"
   ]
  },
  {
   "cell_type": "markdown",
   "metadata": {
    "ExecuteTime": {
     "end_time": "2019-04-22T15:50:29.049881Z",
     "start_time": "2019-04-22T15:50:29.045908Z"
    },
    "colab_type": "text",
    "id": "J5LAydKC-KZW"
   },
   "source": [
    "Review the process at each step by using the '.res[0]' function."
   ]
  },
  {
   "cell_type": "code",
   "execution_count": 43,
   "metadata": {
    "colab": {},
    "colab_type": "code",
    "id": "X1ttZmrI-KZX",
    "ExecuteTime": {
     "end_time": "2024-04-03T00:33:12.453301Z",
     "start_time": "2024-04-03T00:33:12.447041Z"
    }
   },
   "outputs": [
    {
     "data": {
      "text/plain": "{'target': 0.719551163461556,\n 'params': {'lambda_l1': 0.018840990652868147,\n  'lambda_l2': 0.04425257622334894,\n  'max_depth': 34.23087140244899,\n  'min_child_samples': 914.9484656247608,\n  'min_data_in_leaf': 467.3581266302312,\n  'num_leaves': 3194.5835903383477}}"
     },
     "execution_count": 43,
     "metadata": {},
     "output_type": "execute_result"
    }
   ],
   "source": [
    "lgbBO.res[0]"
   ]
  },
  {
   "cell_type": "code",
   "outputs": [
    {
     "data": {
      "text/plain": "      target  lambda_l1  lambda_l2  max_depth  min_child_samples  \\\n0   0.719551   0.018841   0.044253  34.230871         914.948466   \n1   0.743307   0.035361   0.040018  59.680461        1823.185145   \n2   0.743180   0.040026   0.045164  29.168459        1412.381708   \n3   0.743673   0.007833   0.000420  18.209696        2801.537088   \n4   0.743359   0.030828   0.032431  30.128313        3752.206085   \n5   0.743536   0.043083   0.028484  56.550983        5127.359680   \n6   0.743444   0.032716   0.046856  59.392513        2819.669562   \n7   0.743617   0.001125   0.001958  35.980465        7806.872932   \n8   0.743353   0.009763   0.044536  62.952669        8274.162076   \n9   0.743694   0.036502   0.003138  36.589915        3763.050823   \n10  0.742197   0.007146   0.042510   5.817353        9212.338793   \n11  0.742815   0.037211   0.011326  16.415346        2709.401781   \n\n    min_data_in_leaf   num_leaves  \n0         467.358127  3194.583590  \n1        1616.175057  1304.296976  \n2        1919.239109  2189.957339  \n3        1944.225819  2189.133591  \n4        1902.214027   245.300858  \n5        1880.721728  1842.834848  \n6        1853.475169  2084.391313  \n7        1885.309467    60.538065  \n8        1838.750624  3090.908898  \n9        1862.094148   240.719652  \n10       1991.500726  2834.344005  \n11       1257.510135   982.869612  ",
      "text/html": "<div>\n<style scoped>\n    .dataframe tbody tr th:only-of-type {\n        vertical-align: middle;\n    }\n\n    .dataframe tbody tr th {\n        vertical-align: top;\n    }\n\n    .dataframe thead th {\n        text-align: right;\n    }\n</style>\n<table border=\"1\" class=\"dataframe\">\n  <thead>\n    <tr style=\"text-align: right;\">\n      <th></th>\n      <th>target</th>\n      <th>lambda_l1</th>\n      <th>lambda_l2</th>\n      <th>max_depth</th>\n      <th>min_child_samples</th>\n      <th>min_data_in_leaf</th>\n      <th>num_leaves</th>\n    </tr>\n  </thead>\n  <tbody>\n    <tr>\n      <th>0</th>\n      <td>0.719551</td>\n      <td>0.018841</td>\n      <td>0.044253</td>\n      <td>34.230871</td>\n      <td>914.948466</td>\n      <td>467.358127</td>\n      <td>3194.583590</td>\n    </tr>\n    <tr>\n      <th>1</th>\n      <td>0.743307</td>\n      <td>0.035361</td>\n      <td>0.040018</td>\n      <td>59.680461</td>\n      <td>1823.185145</td>\n      <td>1616.175057</td>\n      <td>1304.296976</td>\n    </tr>\n    <tr>\n      <th>2</th>\n      <td>0.743180</td>\n      <td>0.040026</td>\n      <td>0.045164</td>\n      <td>29.168459</td>\n      <td>1412.381708</td>\n      <td>1919.239109</td>\n      <td>2189.957339</td>\n    </tr>\n    <tr>\n      <th>3</th>\n      <td>0.743673</td>\n      <td>0.007833</td>\n      <td>0.000420</td>\n      <td>18.209696</td>\n      <td>2801.537088</td>\n      <td>1944.225819</td>\n      <td>2189.133591</td>\n    </tr>\n    <tr>\n      <th>4</th>\n      <td>0.743359</td>\n      <td>0.030828</td>\n      <td>0.032431</td>\n      <td>30.128313</td>\n      <td>3752.206085</td>\n      <td>1902.214027</td>\n      <td>245.300858</td>\n    </tr>\n    <tr>\n      <th>5</th>\n      <td>0.743536</td>\n      <td>0.043083</td>\n      <td>0.028484</td>\n      <td>56.550983</td>\n      <td>5127.359680</td>\n      <td>1880.721728</td>\n      <td>1842.834848</td>\n    </tr>\n    <tr>\n      <th>6</th>\n      <td>0.743444</td>\n      <td>0.032716</td>\n      <td>0.046856</td>\n      <td>59.392513</td>\n      <td>2819.669562</td>\n      <td>1853.475169</td>\n      <td>2084.391313</td>\n    </tr>\n    <tr>\n      <th>7</th>\n      <td>0.743617</td>\n      <td>0.001125</td>\n      <td>0.001958</td>\n      <td>35.980465</td>\n      <td>7806.872932</td>\n      <td>1885.309467</td>\n      <td>60.538065</td>\n    </tr>\n    <tr>\n      <th>8</th>\n      <td>0.743353</td>\n      <td>0.009763</td>\n      <td>0.044536</td>\n      <td>62.952669</td>\n      <td>8274.162076</td>\n      <td>1838.750624</td>\n      <td>3090.908898</td>\n    </tr>\n    <tr>\n      <th>9</th>\n      <td>0.743694</td>\n      <td>0.036502</td>\n      <td>0.003138</td>\n      <td>36.589915</td>\n      <td>3763.050823</td>\n      <td>1862.094148</td>\n      <td>240.719652</td>\n    </tr>\n    <tr>\n      <th>10</th>\n      <td>0.742197</td>\n      <td>0.007146</td>\n      <td>0.042510</td>\n      <td>5.817353</td>\n      <td>9212.338793</td>\n      <td>1991.500726</td>\n      <td>2834.344005</td>\n    </tr>\n    <tr>\n      <th>11</th>\n      <td>0.742815</td>\n      <td>0.037211</td>\n      <td>0.011326</td>\n      <td>16.415346</td>\n      <td>2709.401781</td>\n      <td>1257.510135</td>\n      <td>982.869612</td>\n    </tr>\n  </tbody>\n</table>\n</div>"
     },
     "execution_count": 63,
     "metadata": {},
     "output_type": "execute_result"
    }
   ],
   "source": [
    "    pd.DataFrame(\n",
    "       {'target':[x['target'] for x in lgbBO.res]} | \n",
    "       {p:[x['params'][p] for x in lgbBO.res] for p in lgbBO.res[0]['params'].keys()}\n",
    "       )"
   ],
   "metadata": {
    "collapsed": false,
    "ExecuteTime": {
     "end_time": "2024-04-03T00:49:47.038643Z",
     "start_time": "2024-04-03T00:49:47.033354Z"
    }
   },
   "execution_count": 63
  },
  {
   "cell_type": "code",
   "outputs": [],
   "source": [],
   "metadata": {
    "collapsed": false
   }
  }
 ],
 "metadata": {
  "colab": {
   "name": "Bayesian_optimization_exercise.ipynb",
   "provenance": []
  },
  "deepnote_execution_queue": [],
  "kernelspec": {
   "display_name": "Python 3",
   "language": "python",
   "name": "python3"
  },
  "language_info": {
   "codemirror_mode": {
    "name": "ipython",
    "version": 3
   },
   "file_extension": ".py",
   "mimetype": "text/x-python",
   "name": "python",
   "nbconvert_exporter": "python",
   "pygments_lexer": "ipython3",
   "version": "3.7.3"
  },
  "varInspector": {
   "cols": {
    "lenName": 16,
    "lenType": 16,
    "lenVar": 40
   },
   "kernels_config": {
    "python": {
     "delete_cmd_postfix": "",
     "delete_cmd_prefix": "del ",
     "library": "var_list.py",
     "varRefreshCmd": "print(var_dic_list())"
    },
    "r": {
     "delete_cmd_postfix": ") ",
     "delete_cmd_prefix": "rm(",
     "library": "var_list.r",
     "varRefreshCmd": "cat(var_dic_list()) "
    }
   },
   "types_to_exclude": [
    "module",
    "function",
    "builtin_function_or_method",
    "instance",
    "_Feature"
   ],
   "window_display": false
  }
 },
 "nbformat": 4,
 "nbformat_minor": 1
}
