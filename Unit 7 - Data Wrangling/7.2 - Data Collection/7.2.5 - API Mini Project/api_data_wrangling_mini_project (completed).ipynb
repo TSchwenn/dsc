{
 "cells": [
  {
   "cell_type": "markdown",
   "source": [
    "## API Data Wrangling Mini-Project (completed)\n",
    "This exercise will require you to pull some data from https://data.nasdaq.com/ (formerly Quandl API)."
   ],
   "metadata": {
    "collapsed": false
   }
  },
  {
   "cell_type": "markdown",
   "source": [
    "After you register, you will be provided with a unique API key, that you should store:\n",
    "\n",
    "*Note*: Use a `.env` file and put your key in there and `python-dotenv` to access it in this notebook. \n",
    "\n",
    "The code below uses a key that was used when generating this project but has since been deleted. Never submit your keys to source control. There is a `.env-example` file in this repository to illusrtate what you need. Copy that to a file called `.env` and use your own api key in that `.env` file. Make sure you also have a `.gitignore` file with a line for `.env` added to it. \n",
    "\n",
    "The standard Python gitignore is [here](https://github.com/github/gitignore/blob/master/Python.gitignore) you can just copy that. "
   ],
   "metadata": {}
  },
  {
   "cell_type": "code",
   "execution_count": 1,
   "source": [
    "# get api key from your .env file\n",
    "import os\n",
    "from dotenv import load_dotenv\n",
    "from pandas.core.interchange import column\n",
    "\n",
    "load_dotenv()\n",
    "API_KEY = os.getenv('NASDAQ_DATA_LINK_API_KEY')\n",
    "\n",
    "print(API_KEY[:4], (len(API_KEY)-8) * \".\", API_KEY[-4:], sep=\"\")"
   ],
   "outputs": [
    {
     "name": "stdout",
     "output_type": "stream",
     "text": [
      "Azxo............AZf-\n"
     ]
    }
   ],
   "metadata": {
    "ExecuteTime": {
     "end_time": "2024-04-09T03:09:47.616872Z",
     "start_time": "2024-04-09T03:09:47.226584Z"
    }
   }
  },
  {
   "cell_type": "markdown",
   "source": [
    "Nasdaq Data has a large number of data sources, but, unfortunately, most of them require a Premium subscription. Still, there are also a good number of free datasets."
   ],
   "metadata": {}
  },
  {
   "cell_type": "markdown",
   "source": [
    "For this mini project, we will focus on equities data from the Frankfurt Stock Exhange (FSE), which is available for free. We'll try and analyze the stock prices of a company called Carl Zeiss Meditec, which manufactures tools for eye examinations, as well as medical lasers for laser eye surgery: https://www.zeiss.com/meditec/int/home.html. The company is listed under the stock ticker AFX_X."
   ],
   "metadata": {}
  },
  {
   "cell_type": "markdown",
   "source": [
    "You can find the detailed Nasdaq Data API instructions here: https://docs.data.nasdaq.com/docs/in-depth-usage"
   ],
   "metadata": {}
  },
  {
   "cell_type": "markdown",
   "source": [
    "While there is a dedicated Python package for connecting to the Nasdaq API, we would prefer that you use the *requests* package, which can be easily downloaded using *pip* or *conda*. You can find the documentation for the package here: http://docs.python-requests.org/en/master/ "
   ],
   "metadata": {}
  },
  {
   "cell_type": "markdown",
   "source": [
    "Finally, apart from the *requests* package, you are encouraged to not use any third party Python packages, such as *pandas*, and instead focus on what's available in the Python Standard Library (the *collections* module might come in handy: https://pymotw.com/3/collections/).\n",
    "Also, since you won't have access to DataFrames, you are encouraged to us Python's native data structures - preferably dictionaries, though some questions can also be answered using lists.\n",
    "You can read more on these data structures here: https://docs.python.org/3/tutorial/datastructures.html"
   ],
   "metadata": {}
  },
  {
   "cell_type": "code",
   "outputs": [],
   "source": [
    "# !pip install requests"
   ],
   "metadata": {
    "collapsed": false,
    "ExecuteTime": {
     "end_time": "2024-04-09T03:09:47.619550Z",
     "start_time": "2024-04-09T03:09:47.617893Z"
    }
   },
   "execution_count": 2
  },
  {
   "cell_type": "markdown",
   "source": [
    "Keep in mind that the JSON responses you will be getting from the API map almost one-to-one to Python's dictionaries. Unfortunately, they can be very nested, so make sure you read up on indexing dictionaries in the documentation provided above."
   ],
   "metadata": {}
  },
  {
   "cell_type": "code",
   "execution_count": 3,
   "source": [
    "# First, import the relevant modules\n",
    "import requests\n",
    "from collections import namedtuple, deque, ChainMap, Counter, OrderedDict, defaultdict"
   ],
   "outputs": [],
   "metadata": {
    "ExecuteTime": {
     "end_time": "2024-04-09T03:09:47.665489Z",
     "start_time": "2024-04-09T03:09:47.620048Z"
    }
   }
  },
  {
   "cell_type": "markdown",
   "source": [
    "Note: API's can change a bit with each version, for this exercise it is recommended to use the nasdaq api at `https://data.nasdaq.com/api/v3/`. This is the same api as what used to be quandl so `https://www.quandl.com/api/v3/` should work too.\n",
    "\n",
    "Hint: We are looking for the `AFX_X` data on the `datasets/FSE/` dataset."
   ],
   "metadata": {}
  },
  {
   "cell_type": "code",
   "execution_count": 4,
   "source": [
    "# Now, call the Nasdaq API and pull out a small sample of the data (only one day) to get a glimpse\n",
    "# into the JSON structure that will be returned\n",
    "\n",
    "url = \"https://data.nasdaq.com/api/v3/datasets/FSE/AFX_X\"\n",
    "params = dict(api_key=API_KEY,\n",
    "              limit=1)\n",
    "\n",
    "res = requests.get(url, params)\n",
    "\n",
    "print(res)"
   ],
   "outputs": [
    {
     "name": "stdout",
     "output_type": "stream",
     "text": [
      "<Response [200]>\n"
     ]
    }
   ],
   "metadata": {
    "ExecuteTime": {
     "end_time": "2024-04-09T03:09:48.134295Z",
     "start_time": "2024-04-09T03:09:47.666877Z"
    }
   }
  },
  {
   "cell_type": "code",
   "outputs": [
    {
     "data": {
      "text/plain": "'{\"dataset\":{\"id\":10095370,\"dataset_code\":\"AFX_X\",\"database_code\":\"FSE\",\"name\":\"Carl Zeiss Meditec (AFX_X)\",\"description\":\"Stock Prices for Carl Zeiss Meditec (2020-11-02) from the Frankfurt Stock Exchange.\\\\u003cbr\\\\u003e\\\\u003cbr\\\\u003eTrading System: Xetra\\\\u003cbr\\\\u003e\\\\u003cbr\\\\u003eISIN: DE0005313704\",\"refreshed_at\":\"2020-12-01T14:48:09.907Z\",\"newest_available_date\":\"2020-12-01\",\"oldest_available_date\":\"2000-06-07\",\"column_names\":[\"Date\",\"Open\",\"High\",\"Low\",\"Close\",\"Change\",\"Traded Volume\",\"Turnover\",\"Last Price of the Day\",\"Daily Traded Units\",\"Daily Turnover\"],\"frequency\":\"daily\",\"type\":\"Time Series\",\"premium\":false,\"limit\":1,\"transform\":null,\"column_index\":null,\"start_date\":\"2000-06-07\",\"end_date\":\"2020-12-01\",\"data\":[[\"2020-12-01\",112.2,112.2,111.5,112.0,null,51.0,5703.0,null,null,null]],\"collapse\":null,\"order\":null,\"database_id\":6129}}'"
     },
     "execution_count": 5,
     "metadata": {},
     "output_type": "execute_result"
    }
   ],
   "source": [
    "res.text"
   ],
   "metadata": {
    "collapsed": false,
    "ExecuteTime": {
     "end_time": "2024-04-09T03:09:48.141478Z",
     "start_time": "2024-04-09T03:09:48.135773Z"
    }
   },
   "execution_count": 5
  },
  {
   "cell_type": "code",
   "execution_count": 6,
   "source": [
    "# Inspect the JSON structure of the object you created, and take note of how nested it is,\n",
    "# as well as the overall structure\n",
    "res.json()"
   ],
   "outputs": [
    {
     "data": {
      "text/plain": "{'dataset': {'id': 10095370,\n  'dataset_code': 'AFX_X',\n  'database_code': 'FSE',\n  'name': 'Carl Zeiss Meditec (AFX_X)',\n  'description': 'Stock Prices for Carl Zeiss Meditec (2020-11-02) from the Frankfurt Stock Exchange.<br><br>Trading System: Xetra<br><br>ISIN: DE0005313704',\n  'refreshed_at': '2020-12-01T14:48:09.907Z',\n  'newest_available_date': '2020-12-01',\n  'oldest_available_date': '2000-06-07',\n  'column_names': ['Date',\n   'Open',\n   'High',\n   'Low',\n   'Close',\n   'Change',\n   'Traded Volume',\n   'Turnover',\n   'Last Price of the Day',\n   'Daily Traded Units',\n   'Daily Turnover'],\n  'frequency': 'daily',\n  'type': 'Time Series',\n  'premium': False,\n  'limit': 1,\n  'transform': None,\n  'column_index': None,\n  'start_date': '2000-06-07',\n  'end_date': '2020-12-01',\n  'data': [['2020-12-01',\n    112.2,\n    112.2,\n    111.5,\n    112.0,\n    None,\n    51.0,\n    5703.0,\n    None,\n    None,\n    None]],\n  'collapse': None,\n  'order': None,\n  'database_id': 6129}}"
     },
     "execution_count": 6,
     "metadata": {},
     "output_type": "execute_result"
    }
   ],
   "metadata": {
    "ExecuteTime": {
     "end_time": "2024-04-09T03:09:48.146827Z",
     "start_time": "2024-04-09T03:09:48.142595Z"
    }
   }
  },
  {
   "cell_type": "markdown",
   "source": [
    "These are your tasks for this mini project:\n",
    "\n",
    "1. Collect data from the Frankfurt Stock Exchange, for the ticker AFX_X, for the whole year 2017 (keep in mind that the date format is YYYY-MM-DD).\n",
    "2. Convert the returned JSON object into a Python dictionary.\n",
    "3. Calculate what the highest and lowest opening prices were for the stock in this period.\n",
    "4. What was the largest change in any one day (based on High and Low price)?\n",
    "5. What was the largest change between any two days (based on Closing Price)?\n",
    "6. What was the average daily trading volume during this year?\n",
    "7. (Optional) What was the median trading volume during this year. (Note: you may need to implement your own function for calculating the median.)"
   ],
   "metadata": {
    "collapsed": false
   }
  },
  {
   "cell_type": "markdown",
   "source": [
    "#### 1. Collect data from the Frankfurt Stock Exchange, for the ticker AFX_X, for the whole year 2017"
   ],
   "metadata": {}
  },
  {
   "cell_type": "code",
   "execution_count": 7,
   "source": [
    "params = dict(api_key=API_KEY,\n",
    "              start_date=\"2017-01-01\",\n",
    "              end_date=\"2017-12-31\")\n",
    "\n",
    "res = requests.get(url, params)\n",
    "res.json().keys()"
   ],
   "outputs": [
    {
     "data": {
      "text/plain": "dict_keys(['dataset'])"
     },
     "execution_count": 7,
     "metadata": {},
     "output_type": "execute_result"
    }
   ],
   "metadata": {
    "ExecuteTime": {
     "end_time": "2024-04-09T03:09:48.544109Z",
     "start_time": "2024-04-09T03:09:48.147774Z"
    }
   }
  },
  {
   "cell_type": "markdown",
   "source": [
    "#### 2. Convert the returned JSON object into a Python dictionary."
   ],
   "metadata": {
    "collapsed": false
   }
  },
  {
   "cell_type": "code",
   "outputs": [
    {
     "data": {
      "text/plain": "dict_keys(['id', 'dataset_code', 'database_code', 'name', 'description', 'refreshed_at', 'newest_available_date', 'oldest_available_date', 'column_names', 'frequency', 'type', 'premium', 'limit', 'transform', 'column_index', 'start_date', 'end_date', 'data', 'collapse', 'order', 'database_id'])"
     },
     "execution_count": 8,
     "metadata": {},
     "output_type": "execute_result"
    }
   ],
   "source": [
    "all2017 = res.json()['dataset']\n",
    "all2017.keys()"
   ],
   "metadata": {
    "collapsed": false,
    "ExecuteTime": {
     "end_time": "2024-04-09T03:09:48.549719Z",
     "start_time": "2024-04-09T03:09:48.545539Z"
    }
   },
   "execution_count": 8
  },
  {
   "cell_type": "code",
   "outputs": [
    {
     "name": "stdout",
     "output_type": "stream",
     "text": [
      "['Date', 'Open', 'High', 'Low', 'Close', 'Change', 'Traded Volume', 'Turnover', 'Last Price of the Day', 'Daily Traded Units', 'Daily Turnover']\n",
      "['2017-12-29', 51.76, 51.94, 51.45, 51.76, None, 34640.0, 1792304.0, None, None, None]\n"
     ]
    }
   ],
   "source": [
    "print(all2017['column_names'])\n",
    "print(all2017['data'][0])"
   ],
   "metadata": {
    "collapsed": false,
    "ExecuteTime": {
     "end_time": "2024-04-09T03:09:48.553881Z",
     "start_time": "2024-04-09T03:09:48.551074Z"
    }
   },
   "execution_count": 9
  },
  {
   "cell_type": "code",
   "outputs": [
    {
     "data": {
      "text/plain": "Datum(date='2017-01-02', open=34.99, high=35.94, low=34.99, close=35.8, change=None, traded_volume=44700.0, turnover=1590561.0, last_price_of_the_day=None, daily_traded_units=None, daily_turnover=None)"
     },
     "execution_count": 10,
     "metadata": {},
     "output_type": "execute_result"
    }
   ],
   "source": [
    "clean_column_names = [s.replace(\" \", \"_\").lower() for s in all2017['column_names']]\n",
    "Datum = namedtuple('Datum', clean_column_names)\n",
    "data = [Datum(*d) for d in sorted(all2017['data'], key=lambda x: x[0])]  # Sort by date\n",
    "data[0]"
   ],
   "metadata": {
    "collapsed": false,
    "ExecuteTime": {
     "end_time": "2024-04-09T03:09:48.560304Z",
     "start_time": "2024-04-09T03:09:48.556335Z"
    }
   },
   "execution_count": 10
  },
  {
   "cell_type": "code",
   "outputs": [
    {
     "data": {
      "text/plain": "Datum(date='2017-12-29', open=51.76, high=51.94, low=51.45, close=51.76, change=None, traded_volume=34640.0, turnover=1792304.0, last_price_of_the_day=None, daily_traded_units=None, daily_turnover=None)"
     },
     "execution_count": 11,
     "metadata": {},
     "output_type": "execute_result"
    }
   ],
   "source": [
    "data[-1]"
   ],
   "metadata": {
    "collapsed": false,
    "ExecuteTime": {
     "end_time": "2024-04-09T03:09:48.563784Z",
     "start_time": "2024-04-09T03:09:48.561204Z"
    }
   },
   "execution_count": 11
  },
  {
   "cell_type": "markdown",
   "source": [
    "#### 3. Calculate what the highest and lowest opening prices were for the stock in this period."
   ],
   "metadata": {
    "collapsed": false
   }
  },
  {
   "cell_type": "code",
   "outputs": [
    {
     "name": "stdout",
     "output_type": "stream",
     "text": [
      "34.99 35.9 35.48 35.02 34.91 ... 51.16 51.05 51.45 51.65 51.76\n"
     ]
    }
   ],
   "source": [
    "opens = [d.open for d in data if d.open]\n",
    "print(*opens[:5], \"...\", *opens[-5:])"
   ],
   "metadata": {
    "collapsed": false,
    "ExecuteTime": {
     "end_time": "2024-04-09T03:09:48.566858Z",
     "start_time": "2024-04-09T03:09:48.564531Z"
    }
   },
   "execution_count": 12
  },
  {
   "cell_type": "code",
   "outputs": [
    {
     "name": "stdout",
     "output_type": "stream",
     "text": [
      "In 2017, the highest opening price for AFX_X was €53.11 (on 2017-12-14),\n",
      "and the lowest opening price was €34.00 (on 2017-01-24).\n"
     ]
    }
   ],
   "source": [
    "sorted_by_open = sorted([d for d in data if d.open], key=lambda x: x.open)\n",
    "highest = sorted_by_open[-1]\n",
    "lowest = sorted_by_open[0]\n",
    "print(f\"In 2017, the highest opening price for AFX_X was €{highest.open:.2f} (on {highest.date}),\")\n",
    "print(f\"and the lowest opening price was €{lowest.open:.2f} (on {lowest.date}).\")"
   ],
   "metadata": {
    "collapsed": false,
    "ExecuteTime": {
     "end_time": "2024-04-09T03:09:48.570611Z",
     "start_time": "2024-04-09T03:09:48.567875Z"
    }
   },
   "execution_count": 13
  },
  {
   "cell_type": "markdown",
   "source": [
    "#### 4. What was the largest change in any one day (based on High and Low price)?"
   ],
   "metadata": {
    "collapsed": false
   }
  },
  {
   "cell_type": "code",
   "outputs": [
    {
     "name": "stdout",
     "output_type": "stream",
     "text": [
      "The largest range of prices in any one day was €2.81 (on 2017-05-11).\n"
     ]
    }
   ],
   "source": [
    "sorted_by_range = sorted([d for d in data if d.low and d.high], key=lambda x: x.high-x.low)\n",
    "largest = sorted_by_range[-1]\n",
    "print(f\"The largest range of prices in any one day was \"\n",
    "      f\"€{largest.high - largest.low:.2f} (on {largest.date}).\")"
   ],
   "metadata": {
    "collapsed": false,
    "ExecuteTime": {
     "end_time": "2024-04-09T03:09:48.574190Z",
     "start_time": "2024-04-09T03:09:48.571547Z"
    }
   },
   "execution_count": 14
  },
  {
   "cell_type": "markdown",
   "source": [
    "#### 5. What was the largest change between any two days (based on Closing Price)?"
   ],
   "metadata": {
    "collapsed": false
   }
  },
  {
   "cell_type": "code",
   "outputs": [
    {
     "name": "stdout",
     "output_type": "stream",
     "text": [
      "Largest day-over-day change of closing prices was €-2.56 (between 2017-08-09 and 2017-08-10).\n"
     ]
    }
   ],
   "source": [
    "i_max = 0\n",
    "change_max = 0\n",
    "for i, d in enumerate(data[:-1]):\n",
    "    change = data[i+1].close - d.close\n",
    "    if abs(change) > abs(change_max):\n",
    "        change_max = change\n",
    "        i_max = i+1\n",
    "        \n",
    "print(f\"Largest day-over-day change of closing prices was €{change_max:.2f}\"\n",
    "      f\" (between {data[i_max].date} and {data[i_max+1].date}).\")"
   ],
   "metadata": {
    "collapsed": false,
    "ExecuteTime": {
     "end_time": "2024-04-09T03:09:48.577739Z",
     "start_time": "2024-04-09T03:09:48.575088Z"
    }
   },
   "execution_count": 15
  },
  {
   "cell_type": "markdown",
   "source": [
    "#### 6. What was the average daily trading volume during this year?"
   ],
   "metadata": {
    "collapsed": false
   }
  },
  {
   "cell_type": "code",
   "outputs": [
    {
     "name": "stdout",
     "output_type": "stream",
     "text": [
      "44700.0 70618.0 54408.0 48412.0 27507.0 ... 120649.0 71165.0 57452.0 40660.0 34640.0\n"
     ]
    }
   ],
   "source": [
    "volumes = [d.traded_volume for d in data]\n",
    "print(*volumes[:5], \"...\", *volumes[-5:])  # head & tail"
   ],
   "metadata": {
    "collapsed": false,
    "ExecuteTime": {
     "end_time": "2024-04-09T03:09:48.580411Z",
     "start_time": "2024-04-09T03:09:48.578433Z"
    }
   },
   "execution_count": 16
  },
  {
   "cell_type": "code",
   "outputs": [
    {
     "name": "stdout",
     "output_type": "stream",
     "text": [
      "Trading volume averaged 89124 trades per day.\n"
     ]
    }
   ],
   "source": [
    "print(f\"Trading volume averaged {sum(volumes) / len(volumes):.0f} trades per day.\")"
   ],
   "metadata": {
    "collapsed": false,
    "ExecuteTime": {
     "end_time": "2024-04-09T03:09:48.583054Z",
     "start_time": "2024-04-09T03:09:48.581139Z"
    }
   },
   "execution_count": 17
  },
  {
   "cell_type": "markdown",
   "source": [
    "#### 7. (Optional) What was the median trading volume during this year. (Note: you may need to implement your own function for calculating the median.)"
   ],
   "metadata": {
    "collapsed": false
   }
  },
  {
   "cell_type": "code",
   "outputs": [
    {
     "name": "stdout",
     "output_type": "stream",
     "text": [
      "Median trading volume was 76286 trades per day.\n"
     ]
    }
   ],
   "source": [
    "def median(numbers):\n",
    "    nn = sorted(numbers)\n",
    "    i = len(nn)//2\n",
    "    if len(nn)%2 != 0:  # Odd number of numbers.\n",
    "        return nn[i]\n",
    "    else:  # Even number of numbers.\n",
    "        return (nn[i-1] + nn[i]) / 2\n",
    "    \n",
    "print(f\"Median trading volume was {median(volumes):.0f} trades per day.\")"
   ],
   "metadata": {
    "collapsed": false,
    "ExecuteTime": {
     "end_time": "2024-04-09T03:09:48.586107Z",
     "start_time": "2024-04-09T03:09:48.583932Z"
    }
   },
   "execution_count": 18
  }
 ],
 "metadata": {
  "kernelspec": {
   "name": "python3",
   "language": "python",
   "display_name": "Python 3 (ipykernel)"
  },
  "language_info": {
   "codemirror_mode": {
    "name": "ipython",
    "version": 3
   },
   "file_extension": ".py",
   "mimetype": "text/x-python",
   "name": "python",
   "nbconvert_exporter": "python",
   "pygments_lexer": "ipython3",
   "version": "3.8.1"
  },
  "interpreter": {
   "hash": "7635eb1b9d0fe97add78a7368b6b431c09bb8ad5c42e437d64abdd99821c31ae"
  }
 },
 "nbformat": 4,
 "nbformat_minor": 4
}
