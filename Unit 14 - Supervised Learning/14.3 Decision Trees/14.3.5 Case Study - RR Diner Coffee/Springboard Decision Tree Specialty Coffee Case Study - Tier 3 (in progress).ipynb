{
 "cells": [
  {
   "cell_type": "markdown",
   "metadata": {
    "colab_type": "text",
    "id": "Jm0w3zN4DuVK"
   },
   "source": [
    "# **Springboard Decision Tree Specialty Coffee Case Study - Tier 3 (Completed)**"
   ]
  },
  {
   "cell_type": "markdown",
   "metadata": {
    "colab_type": "text",
    "id": "BhqpAY7GDuVN"
   },
   "source": [
    "# The Scenario\n",
    "\n",
    "Imagine you've just finished the Springboard Data Science Career Track course, and have been hired by a rising popular specialty coffee company - RR Diner Coffee - as a data scientist. Congratulations!\n",
    "\n",
    "RR Diner Coffee sells two types of thing:\n",
    "- specialty coffee beans, in bulk (by the kilogram only) \n",
    "- coffee equipment and merchandise (grinders, brewing equipment, mugs, books, t-shirts).\n",
    "\n",
    "RR Diner Coffee has three stores, two in Europe and one in the USA. The flagshap store is in the USA, and everything is quality assessed there, before being shipped out. Customers further away from the USA flagship store have higher shipping charges. \n",
    "\n",
    "You've been taken on at RR Diner Coffee because the company are turning towards using data science and machine learning to systematically make decisions about which coffee farmers they should strike deals with. \n",
    "\n",
    "RR Diner Coffee typically buys coffee from farmers, processes it on site, brings it back to the USA, roasts it, packages it, markets it, and ships it (only in bulk, and after quality assurance) to customers internationally. These customers all own coffee shops in major cities like New York, Paris, London, Hong Kong, Tokyo, and Berlin. \n",
    "\n",
    "Now, RR Diner Coffee has a decision about whether to strike a deal with a legendary coffee farm (known as the **Hidden Farm**) in rural China: there are rumours their coffee tastes of lychee and dark chocolate, while also being as sweet as apple juice. \n",
    "\n",
    "It's a risky decision, as the deal will be expensive, and the coffee might not be bought by customers. The stakes are high: times are tough, stocks are low, farmers are reverting to old deals with the larger enterprises and the publicity of selling *Hidden Farm* coffee could save the RR Diner Coffee business. \n",
    "\n",
    "Your first job, then, is ***to build a decision tree to predict how many units of the Hidden Farm Chinese coffee will be purchased by RR Diner Coffee's most loyal customers.*** \n",
    "\n",
    "To this end, you and your team have conducted a survey of 710 of the most loyal RR Diner Coffee customers, collecting data on the customers':\n",
    "- age\n",
    "- gender \n",
    "- salary \n",
    "- whether they have bought at least one RR Diner Coffee product online\n",
    "- their distance from the flagship store in the USA (standardized to a number between 0 and 11) \n",
    "- how much they spent on RR Diner Coffee products on the week of the survey \n",
    "- how much they spent on RR Diner Coffee products in the month preceding the survey\n",
    "- the number of RR Diner coffee bean shipments each customer has ordered over the preceding year. \n",
    "\n",
    "You also asked each customer participating in the survey whether they would buy the Hidden Farm coffee, and some (but not all) of the customers gave responses to that question. \n",
    "\n",
    "You sit back and think: if more than 70% of the interviewed customers are likely to buy the Hidden Farm coffee, you will strike the deal with the local Hidden Farm farmers and sell the coffee. Otherwise, you won't strike the deal and the Hidden Farm coffee will remain in legends only. There's some doubt in your mind about whether 70% is a reasonable threshold, but it'll do for the moment. \n",
    "\n",
    "To solve the problem, then, you will build a decision tree to implement a classification solution. \n",
    "\n",
    "\n",
    "-------------------------------\n",
    "As ever, this notebook is **tiered**, meaning you can elect that tier that is right for your confidence and skill level. There are 3 tiers, with tier 1 being the easiest and tier 3 being the hardest. This is ***tier 3***, so it will be challenging. \n",
    "\n",
    "**1. Sourcing and loading** \n",
    "- Import packages\n",
    "- Load data\n",
    "- Explore the data\n",
    "\n",
    " \n",
    "**2. Cleaning, transforming and visualizing**\n",
    "- Cleaning the data\n",
    "- Train/test split\n",
    "  \n",
    "  \n",
    "**3. Modelling** \n",
    "- Model 1: Entropy model - no max_depth\n",
    "- Model 2: Gini impurity model - no max_depth\n",
    "- Model 3: Entropy model - max depth 3\n",
    "- Model 4: Gini impurity model - max depth 3\n",
    "\n",
    "\n",
    "**4. Evaluating and concluding** \n",
    "- How many customers will buy Hidden Farm coffee?\n",
    "- Decision\n",
    "\n",
    "**5. Random Forest** \n",
    "- Import necessary modules\n",
    "- Model\n",
    "- Revise conclusion\n",
    "    "
   ]
  },
  {
   "cell_type": "markdown",
   "metadata": {
    "colab_type": "text",
    "id": "nciXGXtCDuVO"
   },
   "source": [
    "# 0. Overview\n",
    "\n",
    "This notebook uses decision trees to determine whether the factors of salary, gender, age, how much money the customer spent last week and during the preceding month on RR Diner Coffee products, how many kilogram coffee bags the customer bought over the last year, whether they have bought at least one RR Diner Coffee product online, and their distance from the flagship store in the USA, could predict whether customers would purchase the Hidden Farm coffee if a deal with its farmers were struck. "
   ]
  },
  {
   "cell_type": "markdown",
   "metadata": {
    "colab_type": "text",
    "id": "5fSgD2h9DuVP"
   },
   "source": [
    "# 1. Sourcing and loading\n",
    "## 1a. Import Packages"
   ]
  },
  {
   "cell_type": "code",
   "metadata": {
    "colab": {},
    "colab_type": "code",
    "id": "CfGkTcLvDuVQ",
    "ExecuteTime": {
     "end_time": "2024-03-21T22:07:59.395998Z",
     "start_time": "2024-03-21T22:07:59.139296Z"
    }
   },
   "source": [
    "import pandas as pd\n",
    "import numpy as np\n",
    "from sklearn import tree, metrics\n",
    "from sklearn.model_selection import train_test_split\n",
    "import seaborn as sns\n",
    "import matplotlib.pyplot as plt\n",
    "from io import StringIO  \n",
    "from IPython.display import Image\n",
    "from sklearn.tree import DecisionTreeClassifier\n",
    "# import pydotplus"
   ],
   "outputs": [],
   "execution_count": 1
  },
  {
   "cell_type": "markdown",
   "metadata": {
    "colab_type": "text",
    "id": "ZLgxyhNrDuVT"
   },
   "source": [
    "## 1b. Load data "
   ]
  },
  {
   "cell_type": "code",
   "metadata": {
    "colab": {},
    "colab_type": "code",
    "id": "chW2ozlnDuVU",
    "ExecuteTime": {
     "end_time": "2024-03-21T22:07:59.401299Z",
     "start_time": "2024-03-21T22:07:59.397520Z"
    }
   },
   "source": [
    "# Read in the data to a variable called coffeeData\n",
    "coffeeData = pd.read_csv(\"data/RRDinerCoffeeData.csv\")"
   ],
   "outputs": [],
   "execution_count": 2
  },
  {
   "cell_type": "markdown",
   "metadata": {
    "colab_type": "text",
    "id": "qnMVYf2NDuVW"
   },
   "source": [
    "## 1c. Explore the data"
   ]
  },
  {
   "cell_type": "markdown",
   "metadata": {
    "colab_type": "text",
    "id": "U5Qm4obyDuVX"
   },
   "source": [
    "As we've seen, exploration entails doing things like checking out the **initial appearance** of the data with head(), the **dimensions** of our data with .shape, the **data types** of the variables with .info(), the **number of non-null values**, how much **memory** is being used to store the data, and finally the major summary statistcs capturing **central tendancy, dispersion and the null-excluding shape of the dataset's distribution**. \n",
    "\n",
    "How much of this can you do yourself by this point in the course? Have a real go. "
   ]
  },
  {
   "cell_type": "code",
   "metadata": {
    "colab": {},
    "colab_type": "code",
    "id": "cHEKFT4SDuVY",
    "ExecuteTime": {
     "end_time": "2024-03-21T22:07:59.408107Z",
     "start_time": "2024-03-21T22:07:59.402045Z"
    }
   },
   "source": [
    "# Call head() on your data \n",
    "coffeeData.head()"
   ],
   "outputs": [
    {
     "data": {
      "text/plain": "   Age  Gender  num_coffeeBags_per_year  spent_week  spent_month  SlrAY  \\\n0   36  Female                        0          24           73  42789   \n1   24    Male                        0          44          164  74035   \n2   24    Male                        0          39          119  30563   \n3   20    Male                        0          30          107  13166   \n4   24  Female                        0          20           36  14244   \n\n   Distance  Online  Decision  \n0  0.003168       0       1.0  \n1  0.520906       0       NaN  \n2  0.916005       1       1.0  \n3  0.932098       1       NaN  \n4  0.965881       0       1.0  ",
      "text/html": "<div>\n<style scoped>\n    .dataframe tbody tr th:only-of-type {\n        vertical-align: middle;\n    }\n\n    .dataframe tbody tr th {\n        vertical-align: top;\n    }\n\n    .dataframe thead th {\n        text-align: right;\n    }\n</style>\n<table border=\"1\" class=\"dataframe\">\n  <thead>\n    <tr style=\"text-align: right;\">\n      <th></th>\n      <th>Age</th>\n      <th>Gender</th>\n      <th>num_coffeeBags_per_year</th>\n      <th>spent_week</th>\n      <th>spent_month</th>\n      <th>SlrAY</th>\n      <th>Distance</th>\n      <th>Online</th>\n      <th>Decision</th>\n    </tr>\n  </thead>\n  <tbody>\n    <tr>\n      <th>0</th>\n      <td>36</td>\n      <td>Female</td>\n      <td>0</td>\n      <td>24</td>\n      <td>73</td>\n      <td>42789</td>\n      <td>0.003168</td>\n      <td>0</td>\n      <td>1.0</td>\n    </tr>\n    <tr>\n      <th>1</th>\n      <td>24</td>\n      <td>Male</td>\n      <td>0</td>\n      <td>44</td>\n      <td>164</td>\n      <td>74035</td>\n      <td>0.520906</td>\n      <td>0</td>\n      <td>NaN</td>\n    </tr>\n    <tr>\n      <th>2</th>\n      <td>24</td>\n      <td>Male</td>\n      <td>0</td>\n      <td>39</td>\n      <td>119</td>\n      <td>30563</td>\n      <td>0.916005</td>\n      <td>1</td>\n      <td>1.0</td>\n    </tr>\n    <tr>\n      <th>3</th>\n      <td>20</td>\n      <td>Male</td>\n      <td>0</td>\n      <td>30</td>\n      <td>107</td>\n      <td>13166</td>\n      <td>0.932098</td>\n      <td>1</td>\n      <td>NaN</td>\n    </tr>\n    <tr>\n      <th>4</th>\n      <td>24</td>\n      <td>Female</td>\n      <td>0</td>\n      <td>20</td>\n      <td>36</td>\n      <td>14244</td>\n      <td>0.965881</td>\n      <td>0</td>\n      <td>1.0</td>\n    </tr>\n  </tbody>\n</table>\n</div>"
     },
     "execution_count": 3,
     "metadata": {},
     "output_type": "execute_result"
    }
   ],
   "execution_count": 3
  },
  {
   "cell_type": "code",
   "metadata": {
    "colab": {},
    "colab_type": "code",
    "id": "rDshwA7tDuVa",
    "ExecuteTime": {
     "end_time": "2024-03-21T22:07:59.410575Z",
     "start_time": "2024-03-21T22:07:59.408722Z"
    }
   },
   "source": [
    "# Access .shape attribute of your data\n",
    "coffeeData.shape"
   ],
   "outputs": [
    {
     "data": {
      "text/plain": "(702, 9)"
     },
     "execution_count": 4,
     "metadata": {},
     "output_type": "execute_result"
    }
   ],
   "execution_count": 4
  },
  {
   "cell_type": "code",
   "metadata": {
    "colab": {},
    "colab_type": "code",
    "id": "iCxo0tomDuVc",
    "ExecuteTime": {
     "end_time": "2024-03-21T22:07:59.416084Z",
     "start_time": "2024-03-21T22:07:59.411007Z"
    }
   },
   "source": [
    "# Call info() on your data\n",
    "coffeeData.info()"
   ],
   "outputs": [
    {
     "name": "stdout",
     "output_type": "stream",
     "text": [
      "<class 'pandas.core.frame.DataFrame'>\n",
      "RangeIndex: 702 entries, 0 to 701\n",
      "Data columns (total 9 columns):\n",
      " #   Column                   Non-Null Count  Dtype  \n",
      "---  ------                   --------------  -----  \n",
      " 0   Age                      702 non-null    int64  \n",
      " 1   Gender                   702 non-null    object \n",
      " 2   num_coffeeBags_per_year  702 non-null    int64  \n",
      " 3   spent_week               702 non-null    int64  \n",
      " 4   spent_month              702 non-null    int64  \n",
      " 5   SlrAY                    702 non-null    int64  \n",
      " 6   Distance                 702 non-null    float64\n",
      " 7   Online                   702 non-null    int64  \n",
      " 8   Decision                 474 non-null    float64\n",
      "dtypes: float64(2), int64(6), object(1)\n",
      "memory usage: 49.5+ KB\n"
     ]
    }
   ],
   "execution_count": 5
  },
  {
   "cell_type": "code",
   "metadata": {
    "colab": {},
    "colab_type": "code",
    "id": "t0ZdmaUeDuVe",
    "ExecuteTime": {
     "end_time": "2024-03-21T22:07:59.426227Z",
     "start_time": "2024-03-21T22:07:59.417039Z"
    }
   },
   "source": [
    "# Call describe() on your data to get the relevant summary statistics for your data \n",
    "coffeeData.describe() "
   ],
   "outputs": [
    {
     "data": {
      "text/plain": "              Age  num_coffeeBags_per_year  spent_week  spent_month  \\\ncount  702.000000               702.000000  702.000000   702.000000   \nmean    34.243590                 2.710826   32.853276   107.923077   \nstd     13.927945                 1.593629   15.731878    55.348485   \nmin     16.000000                 0.000000    0.000000     0.000000   \n25%     23.000000                 1.000000   24.250000    62.000000   \n50%     28.000000                 3.000000   36.000000   113.500000   \n75%     46.000000                 4.000000   43.000000   150.750000   \nmax     90.000000                 5.000000   62.000000   210.000000   \n\n               SlrAY    Distance      Online    Decision  \ncount     702.000000  702.000000  702.000000  474.000000  \nmean    43819.843305    4.559186    0.531339    0.639241  \nstd     26192.626943    3.116275    0.499373    0.480728  \nmin      1617.000000    0.003168    0.000000    0.000000  \n25%     22812.250000    1.877812    0.000000    0.000000  \n50%     41975.000000    4.196167    1.000000    1.000000  \n75%     60223.000000    6.712022    1.000000    1.000000  \nmax    182058.000000   10.986203    1.000000    1.000000  ",
      "text/html": "<div>\n<style scoped>\n    .dataframe tbody tr th:only-of-type {\n        vertical-align: middle;\n    }\n\n    .dataframe tbody tr th {\n        vertical-align: top;\n    }\n\n    .dataframe thead th {\n        text-align: right;\n    }\n</style>\n<table border=\"1\" class=\"dataframe\">\n  <thead>\n    <tr style=\"text-align: right;\">\n      <th></th>\n      <th>Age</th>\n      <th>num_coffeeBags_per_year</th>\n      <th>spent_week</th>\n      <th>spent_month</th>\n      <th>SlrAY</th>\n      <th>Distance</th>\n      <th>Online</th>\n      <th>Decision</th>\n    </tr>\n  </thead>\n  <tbody>\n    <tr>\n      <th>count</th>\n      <td>702.000000</td>\n      <td>702.000000</td>\n      <td>702.000000</td>\n      <td>702.000000</td>\n      <td>702.000000</td>\n      <td>702.000000</td>\n      <td>702.000000</td>\n      <td>474.000000</td>\n    </tr>\n    <tr>\n      <th>mean</th>\n      <td>34.243590</td>\n      <td>2.710826</td>\n      <td>32.853276</td>\n      <td>107.923077</td>\n      <td>43819.843305</td>\n      <td>4.559186</td>\n      <td>0.531339</td>\n      <td>0.639241</td>\n    </tr>\n    <tr>\n      <th>std</th>\n      <td>13.927945</td>\n      <td>1.593629</td>\n      <td>15.731878</td>\n      <td>55.348485</td>\n      <td>26192.626943</td>\n      <td>3.116275</td>\n      <td>0.499373</td>\n      <td>0.480728</td>\n    </tr>\n    <tr>\n      <th>min</th>\n      <td>16.000000</td>\n      <td>0.000000</td>\n      <td>0.000000</td>\n      <td>0.000000</td>\n      <td>1617.000000</td>\n      <td>0.003168</td>\n      <td>0.000000</td>\n      <td>0.000000</td>\n    </tr>\n    <tr>\n      <th>25%</th>\n      <td>23.000000</td>\n      <td>1.000000</td>\n      <td>24.250000</td>\n      <td>62.000000</td>\n      <td>22812.250000</td>\n      <td>1.877812</td>\n      <td>0.000000</td>\n      <td>0.000000</td>\n    </tr>\n    <tr>\n      <th>50%</th>\n      <td>28.000000</td>\n      <td>3.000000</td>\n      <td>36.000000</td>\n      <td>113.500000</td>\n      <td>41975.000000</td>\n      <td>4.196167</td>\n      <td>1.000000</td>\n      <td>1.000000</td>\n    </tr>\n    <tr>\n      <th>75%</th>\n      <td>46.000000</td>\n      <td>4.000000</td>\n      <td>43.000000</td>\n      <td>150.750000</td>\n      <td>60223.000000</td>\n      <td>6.712022</td>\n      <td>1.000000</td>\n      <td>1.000000</td>\n    </tr>\n    <tr>\n      <th>max</th>\n      <td>90.000000</td>\n      <td>5.000000</td>\n      <td>62.000000</td>\n      <td>210.000000</td>\n      <td>182058.000000</td>\n      <td>10.986203</td>\n      <td>1.000000</td>\n      <td>1.000000</td>\n    </tr>\n  </tbody>\n</table>\n</div>"
     },
     "execution_count": 6,
     "metadata": {},
     "output_type": "execute_result"
    }
   ],
   "execution_count": 6
  },
  {
   "cell_type": "markdown",
   "metadata": {
    "colab_type": "text",
    "id": "INkujJ6QDuVg"
   },
   "source": [
    "# 2. Cleaning, transforming and visualizing\n",
    "## 2a. Cleaning the data"
   ]
  },
  {
   "cell_type": "markdown",
   "metadata": {
    "colab_type": "text",
    "id": "wIMW_rbdDuVh"
   },
   "source": [
    "Some datasets don't require any cleaning, but almost all do. This one does. We need to replace '1.0' and '0.0' in the 'Decision' column by 'YES' and 'NO' respectively, clean up the values of the 'gender' column, and change the column names to words which maximize meaning and clarity. "
   ]
  },
  {
   "cell_type": "markdown",
   "metadata": {
    "colab_type": "text",
    "id": "EEXdBALeDuVi"
   },
   "source": [
    "First, let's change the name of `spent_week`, `spent_month`, and `SlrAY` to `spent_last_week` and `spent_last_month` and `salary` respectively."
   ]
  },
  {
   "cell_type": "code",
   "metadata": {
    "colab": {},
    "colab_type": "code",
    "id": "rhxy23pbDuVi",
    "ExecuteTime": {
     "end_time": "2024-03-21T22:07:59.430374Z",
     "start_time": "2024-03-21T22:07:59.428261Z"
    }
   },
   "source": [
    "# Check out the names of our data's columns \n",
    "coffeeData.columns"
   ],
   "outputs": [
    {
     "data": {
      "text/plain": "Index(['Age', 'Gender', 'num_coffeeBags_per_year', 'spent_week', 'spent_month',\n       'SlrAY', 'Distance', 'Online', 'Decision'],\n      dtype='object')"
     },
     "execution_count": 7,
     "metadata": {},
     "output_type": "execute_result"
    }
   ],
   "execution_count": 7
  },
  {
   "cell_type": "code",
   "metadata": {
    "colab": {},
    "colab_type": "code",
    "id": "C_D1m6ryDuVk",
    "ExecuteTime": {
     "end_time": "2024-03-21T22:07:59.433261Z",
     "start_time": "2024-03-21T22:07:59.431219Z"
    }
   },
   "source": [
    "# Make the relevant name changes to spent_week and spent_per_week.\n",
    "coffeeData.rename(columns={'spent_week':'spent_last_week',\n",
    "                           'spent_month':'spent_last_month',\n",
    "                           'SlrAY':'salary'},\n",
    "                  inplace=True)"
   ],
   "outputs": [],
   "execution_count": 8
  },
  {
   "cell_type": "code",
   "metadata": {
    "colab": {},
    "colab_type": "code",
    "id": "3cmdaeg8DuVm",
    "ExecuteTime": {
     "end_time": "2024-03-21T22:07:59.436254Z",
     "start_time": "2024-03-21T22:07:59.434004Z"
    }
   },
   "source": [
    "# Check out the column names\n",
    "coffeeData.columns"
   ],
   "outputs": [
    {
     "data": {
      "text/plain": "Index(['Age', 'Gender', 'num_coffeeBags_per_year', 'spent_last_week',\n       'spent_last_month', 'salary', 'Distance', 'Online', 'Decision'],\n      dtype='object')"
     },
     "execution_count": 9,
     "metadata": {},
     "output_type": "execute_result"
    }
   ],
   "execution_count": 9
  },
  {
   "cell_type": "code",
   "metadata": {
    "colab": {},
    "colab_type": "code",
    "id": "XJK-wbfODuVp",
    "ExecuteTime": {
     "end_time": "2024-03-21T22:07:59.439358Z",
     "start_time": "2024-03-21T22:07:59.436744Z"
    }
   },
   "source": [
    "# Let's have a closer look at the gender column. Its values need cleaning.\n",
    "coffeeData['Gender'].value_counts()"
   ],
   "outputs": [
    {
     "data": {
      "text/plain": "Gender\nMale      355\nFemale    340\nfemale      1\nF           1\nf           1\nFEMALE      1\nMALE        1\nmale        1\nM           1\nName: count, dtype: int64"
     },
     "execution_count": 10,
     "metadata": {},
     "output_type": "execute_result"
    }
   ],
   "execution_count": 10
  },
  {
   "cell_type": "code",
   "metadata": {
    "colab": {},
    "colab_type": "code",
    "id": "88bITtgzDuVr",
    "ExecuteTime": {
     "end_time": "2024-03-21T22:07:59.442524Z",
     "start_time": "2024-03-21T22:07:59.440026Z"
    }
   },
   "source": [
    "# See the gender column's unique values \n",
    "coffeeData['Gender'].unique()"
   ],
   "outputs": [
    {
     "data": {
      "text/plain": "array(['Female', 'Male', 'female', 'F', 'f ', 'FEMALE', 'MALE', 'male',\n       'M'], dtype=object)"
     },
     "execution_count": 11,
     "metadata": {},
     "output_type": "execute_result"
    }
   ],
   "execution_count": 11
  },
  {
   "cell_type": "markdown",
   "metadata": {
    "colab_type": "text",
    "id": "-eGzgGR1DuVt"
   },
   "source": [
    "We can see a bunch of inconsistency here.\n",
    "\n",
    "Use replace() to make the values of the `gender` column just `Female` and `Male`."
   ]
  },
  {
   "cell_type": "code",
   "metadata": {
    "colab": {},
    "colab_type": "code",
    "id": "h0FOX3I3DuVu",
    "ExecuteTime": {
     "end_time": "2024-03-21T22:07:59.445670Z",
     "start_time": "2024-03-21T22:07:59.443424Z"
    }
   },
   "source": [
    "# Replace all alternate values for the Female entry with 'Female'\n",
    "coffeeData['Gender'].replace(['female', 'F', 'f ', 'FEMALE'], 'Female', inplace=True)"
   ],
   "outputs": [],
   "execution_count": 12
  },
  {
   "cell_type": "code",
   "metadata": {
    "colab": {},
    "colab_type": "code",
    "id": "5TThfHgCDuVw",
    "ExecuteTime": {
     "end_time": "2024-03-21T22:07:59.449190Z",
     "start_time": "2024-03-21T22:07:59.446502Z"
    }
   },
   "source": [
    "# Check out the unique values for the 'gender' column\n",
    "coffeeData['Gender'].unique()"
   ],
   "outputs": [
    {
     "data": {
      "text/plain": "array(['Female', 'Male', 'MALE', 'male', 'M'], dtype=object)"
     },
     "execution_count": 13,
     "metadata": {},
     "output_type": "execute_result"
    }
   ],
   "execution_count": 13
  },
  {
   "cell_type": "code",
   "metadata": {
    "colab": {},
    "colab_type": "code",
    "id": "4wRKBvSHDuVy",
    "ExecuteTime": {
     "end_time": "2024-03-21T22:07:59.452176Z",
     "start_time": "2024-03-21T22:07:59.449964Z"
    }
   },
   "source": [
    "# Replace all alternate values with \"Male\"\n",
    "coffeeData['Gender'].replace(['MALE', 'male', 'M'], 'Male', inplace=True)"
   ],
   "outputs": [],
   "execution_count": 14
  },
  {
   "cell_type": "code",
   "metadata": {
    "colab": {},
    "colab_type": "code",
    "id": "nhBUkXIADuV0",
    "ExecuteTime": {
     "end_time": "2024-03-21T22:07:59.455434Z",
     "start_time": "2024-03-21T22:07:59.453082Z"
    }
   },
   "source": [
    "# Let's check the unique values of the column \"gender\"\n",
    "coffeeData['Gender'].unique()"
   ],
   "outputs": [
    {
     "data": {
      "text/plain": "array(['Female', 'Male'], dtype=object)"
     },
     "execution_count": 15,
     "metadata": {},
     "output_type": "execute_result"
    }
   ],
   "execution_count": 15
  },
  {
   "cell_type": "code",
   "metadata": {
    "colab": {},
    "colab_type": "code",
    "id": "AdhhO4WHDuV2",
    "ExecuteTime": {
     "end_time": "2024-03-21T22:07:59.458895Z",
     "start_time": "2024-03-21T22:07:59.456238Z"
    }
   },
   "source": [
    "# Check out the unique values of the column 'Decision'\n",
    "coffeeData['Decision'].unique()"
   ],
   "outputs": [
    {
     "data": {
      "text/plain": "array([ 1., nan,  0.])"
     },
     "execution_count": 16,
     "metadata": {},
     "output_type": "execute_result"
    }
   ],
   "execution_count": 16
  },
  {
   "cell_type": "markdown",
   "metadata": {
    "colab_type": "text",
    "id": "m1JuiY-iDuV5"
   },
   "source": [
    "We now want to replace `1.0` and `0.0` in the `Decision` column by `YES` and `NO` respectively."
   ]
  },
  {
   "cell_type": "code",
   "metadata": {
    "colab": {},
    "colab_type": "code",
    "id": "QsK6gYPgDuV5",
    "ExecuteTime": {
     "end_time": "2024-03-21T22:07:59.461707Z",
     "start_time": "2024-03-21T22:07:59.459600Z"
    }
   },
   "source": [
    "# Replace 1.0 and 0.0 by 'Yes' and 'No'\n",
    "coffeeData['Decision'].replace({1.0:'Yes', 0.0:'No'}, inplace=True)"
   ],
   "outputs": [],
   "execution_count": 17
  },
  {
   "cell_type": "code",
   "metadata": {
    "colab": {},
    "colab_type": "code",
    "id": "YtHnTZuWDuV9",
    "ExecuteTime": {
     "end_time": "2024-03-21T22:07:59.464529Z",
     "start_time": "2024-03-21T22:07:59.462362Z"
    }
   },
   "source": [
    "# Check that our replacing those values with 'YES' and 'NO' worked, with unique()\n",
    "coffeeData['Decision'].unique()"
   ],
   "outputs": [
    {
     "data": {
      "text/plain": "array(['Yes', nan, 'No'], dtype=object)"
     },
     "execution_count": 18,
     "metadata": {},
     "output_type": "execute_result"
    }
   ],
   "execution_count": 18
  },
  {
   "metadata": {
    "ExecuteTime": {
     "end_time": "2024-03-21T22:07:59.468124Z",
     "start_time": "2024-03-21T22:07:59.465028Z"
    }
   },
   "cell_type": "code",
   "source": [
    "coffeeData['Decision'].value_counts(dropna=False)"
   ],
   "outputs": [
    {
     "data": {
      "text/plain": "Decision\nYes    303\nNaN    228\nNo     171\nName: count, dtype: int64"
     },
     "execution_count": 19,
     "metadata": {},
     "output_type": "execute_result"
    }
   ],
   "execution_count": 19
  },
  {
   "cell_type": "markdown",
   "metadata": {
    "colab_type": "text",
    "id": "CKCt-fBlDuWB"
   },
   "source": [
    "## 2b. Train/test split\n",
    "To execute the train/test split properly, we need to do five things: \n",
    "1. Drop all rows with a null value in the `Decision` column, and save the result as NOPrediction: a dataset that will contain all known values for the decision \n",
    "2. Visualize the data using scatter and boxplots of several variables in the y-axis and the decision on the x-axis\n",
    "3. Get the subset of coffeeData with null values in the `Decision` column, and save that subset as Prediction\n",
    "4. Divide the NOPrediction subset into X and y, and then further divide those subsets into train and test subsets for X and y respectively\n",
    "5. Create dummy variables to deal with categorical inputs"
   ]
  },
  {
   "cell_type": "markdown",
   "metadata": {
    "colab_type": "text",
    "id": "ysHdkIaQDuWB"
   },
   "source": [
    "### 1. Drop all null values within the `Decision` column, and save the result as NoPrediction"
   ]
  },
  {
   "cell_type": "code",
   "metadata": {
    "colab": {},
    "colab_type": "code",
    "id": "pvgH6SM4DuWC",
    "ExecuteTime": {
     "end_time": "2024-03-21T22:07:59.472078Z",
     "start_time": "2024-03-21T22:07:59.468679Z"
    }
   },
   "source": [
    "# NoPrediction will contain all known values for the decision\n",
    "# Call dropna() on coffeeData, and store the result in a variable NOPrediction \n",
    "# Call describe() on the Decision column of NoPrediction after calling dropna() on coffeeData\n",
    "NOPrediction = coffeeData.dropna()\n",
    "NOPrediction['Decision'].describe()"
   ],
   "outputs": [
    {
     "data": {
      "text/plain": "count     474\nunique      2\ntop       Yes\nfreq      303\nName: Decision, dtype: object"
     },
     "execution_count": 20,
     "metadata": {},
     "output_type": "execute_result"
    }
   ],
   "execution_count": 20
  },
  {
   "cell_type": "markdown",
   "metadata": {
    "colab_type": "text",
    "id": "XfTK5Ec6DuWE"
   },
   "source": [
    "### 2. Visualize the data using scatter and boxplots of several variables in the y-axis and the decision on the x-axis"
   ]
  },
  {
   "cell_type": "code",
   "metadata": {
    "colab": {},
    "colab_type": "code",
    "id": "5O-M-t3tDuWE",
    "ExecuteTime": {
     "end_time": "2024-03-21T22:07:59.548468Z",
     "start_time": "2024-03-21T22:07:59.472764Z"
    }
   },
   "source": [
    "# Exploring our new NOPrediction dataset\n",
    "# Make a boxplot on NOPrediction where the x axis is Decision, and the y axis is spent_last_week\n",
    "sns.boxplot(coffeeData, x='Decision', y='spent_last_week');"
   ],
   "outputs": [
    {
     "data": {
      "text/plain": "<Figure size 640x480 with 1 Axes>",
      "image/png": "[encoded data removed]"
     },
     "metadata": {},
     "output_type": "display_data"
    }
   ],
   "execution_count": 21
  },
  {
   "cell_type": "markdown",
   "metadata": {
    "colab_type": "text",
    "id": "mVqg_HI7DuWG"
   },
   "source": [
    "Can you admissibly conclude anything from this boxplot?\n",
    "\n",
    "*Of all customers reporting a decision, those who spent more on RR Diner Coffee products on the week of the survey are more likely to have replied that they would say 'Yes' to buying the Hidden Farm coffee. In particular, about three quarters of those who replied 'Yes' had spent over $33 in the past week, compared to just one quarter of those who replied 'No'.*"
   ]
  },
  {
   "cell_type": "code",
   "metadata": {
    "colab": {},
    "colab_type": "code",
    "id": "q-AyXWSxDuWH",
    "ExecuteTime": {
     "end_time": "2024-03-21T22:07:59.659649Z",
     "start_time": "2024-03-21T22:07:59.552180Z"
    }
   },
   "source": [
    "# Make a scatterplot on NOPrediction, where x is distance, y is spent_last_month and hue is Decision \n",
    "sns.scatterplot(NOPrediction, x='Distance', y='spent_last_month', hue='Decision');"
   ],
   "outputs": [
    {
     "data": {
      "text/plain": "<Figure size 640x480 with 1 Axes>",
      "image/png": "[encoded data removed]"
     },
     "metadata": {},
     "output_type": "display_data"
    }
   ],
   "execution_count": 22
  },
  {
   "cell_type": "markdown",
   "metadata": {
    "colab_type": "text",
    "id": "I_nr36yZDuWJ"
   },
   "source": [
    "Can you admissibly conclude anything from this scatterplot? Remember: we are trying to build a tree to classify unseen examples.\n",
    "\n",
    "*Amongst customers reporting decisions, there does not appear to be any correlation between their spending in the past month and their distance from the flagship store. However, stratifying by whether that decision was 'Yes' or 'No' reveals a sharp division: almost all those above a certain threshold of spending reported a 'Yes' decision to buy the Hidden Farm coffee. That threshold varies with the customer's distance, clearly visible on the graph as a diagonal dividing line between 'Yes' decisions above and 'No' below, with very little overlap. The line has a slope of roughly $15 per standardized unit of distance, and a zero intercept. A simple predictive decision tree might therefore be based on a single composite variable (feature): monthly spending divided standardized distance.*"
   ]
  },
  {
   "metadata": {
    "ExecuteTime": {
     "end_time": "2024-03-21T22:07:59.737969Z",
     "start_time": "2024-03-21T22:07:59.660479Z"
    }
   },
   "cell_type": "code",
   "source": [
    "spendingOverDistance = NOPrediction['spent_last_month'] / NOPrediction['Distance']\n",
    "\n",
    "fig, ax = plt.subplots()\n",
    "sns.stripplot(y=spendingOverDistance, x=NOPrediction['Decision'], ax=ax)\n",
    "ax.set(ylim=(0, 50))\n",
    "plt.axhline(15, c='red', label='$15 per standardized unit of distance')\n",
    "plt.ylabel('Dollars spent last month divided by standardized units of distance')\n",
    "plt.legend();"
   ],
   "outputs": [
    {
     "data": {
      "text/plain": "<Figure size 640x480 with 1 Axes>",
      "image/png": "[encoded data removed]"
     },
     "metadata": {},
     "output_type": "display_data"
    }
   ],
   "execution_count": 23
  },
  {
   "cell_type": "markdown",
   "metadata": {
    "colab_type": "text",
    "id": "oQBPyvehDuWK"
   },
   "source": [
    "### 3. Get the subset of coffeeData with null values in the Decision column, and save that subset as Prediction"
   ]
  },
  {
   "cell_type": "code",
   "metadata": {
    "colab": {},
    "colab_type": "code",
    "id": "vcCednqUDuWL",
    "ExecuteTime": {
     "end_time": "2024-03-21T22:07:59.741804Z",
     "start_time": "2024-03-21T22:07:59.738579Z"
    }
   },
   "source": [
    "# Get just those rows whose value for the Decision column is null  \n",
    "Prediction = coffeeData[coffeeData['Decision'].isna()]\n",
    "Prediction['Decision'].value_counts(dropna=False)"
   ],
   "outputs": [
    {
     "data": {
      "text/plain": "Decision\nNaN    228\nName: count, dtype: int64"
     },
     "execution_count": 24,
     "metadata": {},
     "output_type": "execute_result"
    }
   ],
   "execution_count": 24
  },
  {
   "cell_type": "code",
   "metadata": {
    "colab": {},
    "colab_type": "code",
    "id": "aenlmp9NDuWM",
    "ExecuteTime": {
     "end_time": "2024-03-21T22:07:59.750615Z",
     "start_time": "2024-03-21T22:07:59.742586Z"
    }
   },
   "source": [
    "# Call describe() on Prediction\n",
    "Prediction.describe()"
   ],
   "outputs": [
    {
     "data": {
      "text/plain": "              Age  num_coffeeBags_per_year  spent_last_week  spent_last_month  \\\ncount  228.000000               228.000000       228.000000        228.000000   \nmean    31.802632                 2.960526        33.394737        110.407895   \nstd     14.302293                 1.585514        15.697930         53.786536   \nmin     16.000000                 0.000000         0.000000          0.000000   \n25%     22.000000                 2.000000        25.750000         65.000000   \n50%     25.000000                 3.000000        37.000000        113.500000   \n75%     39.000000                 4.000000        44.000000        151.250000   \nmax     67.000000                 5.000000        62.000000        210.000000   \n\n              salary    Distance      Online  \ncount     228.000000  228.000000  228.000000  \nmean    41923.741228    3.428836    0.570175  \nstd     27406.768360    2.153102    0.496140  \nmin      1617.000000    0.010048    0.000000  \n25%     15911.500000    1.699408    0.000000  \n50%     40987.500000    3.208673    1.000000  \n75%     58537.000000    5.261184    1.000000  \nmax    182058.000000   10.871566    1.000000  ",
      "text/html": "<div>\n<style scoped>\n    .dataframe tbody tr th:only-of-type {\n        vertical-align: middle;\n    }\n\n    .dataframe tbody tr th {\n        vertical-align: top;\n    }\n\n    .dataframe thead th {\n        text-align: right;\n    }\n</style>\n<table border=\"1\" class=\"dataframe\">\n  <thead>\n    <tr style=\"text-align: right;\">\n      <th></th>\n      <th>Age</th>\n      <th>num_coffeeBags_per_year</th>\n      <th>spent_last_week</th>\n      <th>spent_last_month</th>\n      <th>salary</th>\n      <th>Distance</th>\n      <th>Online</th>\n    </tr>\n  </thead>\n  <tbody>\n    <tr>\n      <th>count</th>\n      <td>228.000000</td>\n      <td>228.000000</td>\n      <td>228.000000</td>\n      <td>228.000000</td>\n      <td>228.000000</td>\n      <td>228.000000</td>\n      <td>228.000000</td>\n    </tr>\n    <tr>\n      <th>mean</th>\n      <td>31.802632</td>\n      <td>2.960526</td>\n      <td>33.394737</td>\n      <td>110.407895</td>\n      <td>41923.741228</td>\n      <td>3.428836</td>\n      <td>0.570175</td>\n    </tr>\n    <tr>\n      <th>std</th>\n      <td>14.302293</td>\n      <td>1.585514</td>\n      <td>15.697930</td>\n      <td>53.786536</td>\n      <td>27406.768360</td>\n      <td>2.153102</td>\n      <td>0.496140</td>\n    </tr>\n    <tr>\n      <th>min</th>\n      <td>16.000000</td>\n      <td>0.000000</td>\n      <td>0.000000</td>\n      <td>0.000000</td>\n      <td>1617.000000</td>\n      <td>0.010048</td>\n      <td>0.000000</td>\n    </tr>\n    <tr>\n      <th>25%</th>\n      <td>22.000000</td>\n      <td>2.000000</td>\n      <td>25.750000</td>\n      <td>65.000000</td>\n      <td>15911.500000</td>\n      <td>1.699408</td>\n      <td>0.000000</td>\n    </tr>\n    <tr>\n      <th>50%</th>\n      <td>25.000000</td>\n      <td>3.000000</td>\n      <td>37.000000</td>\n      <td>113.500000</td>\n      <td>40987.500000</td>\n      <td>3.208673</td>\n      <td>1.000000</td>\n    </tr>\n    <tr>\n      <th>75%</th>\n      <td>39.000000</td>\n      <td>4.000000</td>\n      <td>44.000000</td>\n      <td>151.250000</td>\n      <td>58537.000000</td>\n      <td>5.261184</td>\n      <td>1.000000</td>\n    </tr>\n    <tr>\n      <th>max</th>\n      <td>67.000000</td>\n      <td>5.000000</td>\n      <td>62.000000</td>\n      <td>210.000000</td>\n      <td>182058.000000</td>\n      <td>10.871566</td>\n      <td>1.000000</td>\n    </tr>\n  </tbody>\n</table>\n</div>"
     },
     "execution_count": 25,
     "metadata": {},
     "output_type": "execute_result"
    }
   ],
   "execution_count": 25
  },
  {
   "cell_type": "markdown",
   "metadata": {
    "colab_type": "text",
    "id": "zmN_BPwFDuWO"
   },
   "source": [
    "### 4. Divide the NOPrediction subset into X and y"
   ]
  },
  {
   "cell_type": "code",
   "metadata": {
    "colab": {},
    "colab_type": "code",
    "id": "00WtPVYSDuWP",
    "ExecuteTime": {
     "end_time": "2024-03-21T22:07:59.753261Z",
     "start_time": "2024-03-21T22:07:59.751242Z"
    }
   },
   "source": [
    "# Check the names of the columns of NOPrediction\n",
    "NOPrediction.columns"
   ],
   "outputs": [
    {
     "data": {
      "text/plain": "Index(['Age', 'Gender', 'num_coffeeBags_per_year', 'spent_last_week',\n       'spent_last_month', 'salary', 'Distance', 'Online', 'Decision'],\n      dtype='object')"
     },
     "execution_count": 26,
     "metadata": {},
     "output_type": "execute_result"
    }
   ],
   "execution_count": 26
  },
  {
   "cell_type": "code",
   "metadata": {
    "colab": {},
    "colab_type": "code",
    "id": "oPi2gMLfDuWQ",
    "ExecuteTime": {
     "end_time": "2024-03-21T22:07:59.756586Z",
     "start_time": "2024-03-21T22:07:59.753978Z"
    }
   },
   "source": [
    "# Let's do our feature selection.\n",
    "# Make a variable called 'features', and a list containing the strings of every column except \"Decision\"\n",
    "features = NOPrediction.columns.drop('Decision')\n",
    "\n",
    "# Make an explanatory variable called X, and assign it: NoPrediction[features]\n",
    "X = NOPrediction[features]\n",
    "\n",
    "# Make a dependent variable called y, and assign it: NoPrediction.Decision\n",
    "y = NOPrediction['Decision']"
   ],
   "outputs": [],
   "execution_count": 27
  },
  {
   "cell_type": "markdown",
   "metadata": {
    "colab_type": "text",
    "id": "R-d3XOv8DuWW"
   },
   "source": [
    "### 5. Create dummy variables to deal with categorical inputs\n",
    "One-hot encoding replaces each unique value of a given column with a new column, and puts a 1 in the new column for a given row just if its initial value for the original column matches the new column. Check out [this resource](https://hackernoon.com/what-is-one-hot-encoding-why-and-when-do-you-have-to-use-it-e3c6186d008f) if you haven't seen one-hot-encoding before. \n",
    "\n",
    "**Note**: We will do this before we do our train/test split as to do it after could mean that some categories only end up in the train or test split of our data by chance and this would then lead to different shapes of data for our `X_train` and `X_test` which could/would cause downstream issues when fitting or predicting using a trained model."
   ]
  },
  {
   "cell_type": "code",
   "metadata": {
    "colab": {},
    "colab_type": "code",
    "id": "xXHGDZkZDuWW",
    "ExecuteTime": {
     "end_time": "2024-03-21T22:07:59.761578Z",
     "start_time": "2024-03-21T22:07:59.757276Z"
    }
   },
   "source": [
    "# One-hot encode all features in X.\n",
    "X = pd.get_dummies(X)\n",
    "X.head()"
   ],
   "outputs": [
    {
     "data": {
      "text/plain": "   Age  num_coffeeBags_per_year  spent_last_week  spent_last_month  salary  \\\n0   36                        0               24                73   42789   \n2   24                        0               39               119   30563   \n4   24                        0               20                36   14244   \n5   20                        0               23                28   14293   \n6   34                        0               55               202   91035   \n\n   Distance  Online  Gender_Female  Gender_Male  \n0  0.003168       0           True        False  \n2  0.916005       1          False         True  \n4  0.965881       0           True        False  \n5  1.036346       1           True        False  \n6  1.134851       0           True        False  ",
      "text/html": "<div>\n<style scoped>\n    .dataframe tbody tr th:only-of-type {\n        vertical-align: middle;\n    }\n\n    .dataframe tbody tr th {\n        vertical-align: top;\n    }\n\n    .dataframe thead th {\n        text-align: right;\n    }\n</style>\n<table border=\"1\" class=\"dataframe\">\n  <thead>\n    <tr style=\"text-align: right;\">\n      <th></th>\n      <th>Age</th>\n      <th>num_coffeeBags_per_year</th>\n      <th>spent_last_week</th>\n      <th>spent_last_month</th>\n      <th>salary</th>\n      <th>Distance</th>\n      <th>Online</th>\n      <th>Gender_Female</th>\n      <th>Gender_Male</th>\n    </tr>\n  </thead>\n  <tbody>\n    <tr>\n      <th>0</th>\n      <td>36</td>\n      <td>0</td>\n      <td>24</td>\n      <td>73</td>\n      <td>42789</td>\n      <td>0.003168</td>\n      <td>0</td>\n      <td>True</td>\n      <td>False</td>\n    </tr>\n    <tr>\n      <th>2</th>\n      <td>24</td>\n      <td>0</td>\n      <td>39</td>\n      <td>119</td>\n      <td>30563</td>\n      <td>0.916005</td>\n      <td>1</td>\n      <td>False</td>\n      <td>True</td>\n    </tr>\n    <tr>\n      <th>4</th>\n      <td>24</td>\n      <td>0</td>\n      <td>20</td>\n      <td>36</td>\n      <td>14244</td>\n      <td>0.965881</td>\n      <td>0</td>\n      <td>True</td>\n      <td>False</td>\n    </tr>\n    <tr>\n      <th>5</th>\n      <td>20</td>\n      <td>0</td>\n      <td>23</td>\n      <td>28</td>\n      <td>14293</td>\n      <td>1.036346</td>\n      <td>1</td>\n      <td>True</td>\n      <td>False</td>\n    </tr>\n    <tr>\n      <th>6</th>\n      <td>34</td>\n      <td>0</td>\n      <td>55</td>\n      <td>202</td>\n      <td>91035</td>\n      <td>1.134851</td>\n      <td>0</td>\n      <td>True</td>\n      <td>False</td>\n    </tr>\n  </tbody>\n</table>\n</div>"
     },
     "execution_count": 28,
     "metadata": {},
     "output_type": "execute_result"
    }
   ],
   "execution_count": 28
  },
  {
   "cell_type": "markdown",
   "metadata": {
    "colab_type": "text",
    "id": "Jdn_dHlkDuWS"
   },
   "source": [
    "### 6. Further divide those subsets into train and test subsets for X and y respectively: X_train, X_test, y_train, y_test"
   ]
  },
  {
   "cell_type": "code",
   "metadata": {
    "colab": {},
    "colab_type": "code",
    "id": "RqbHQza-DuWT",
    "ExecuteTime": {
     "end_time": "2024-03-21T22:07:59.765396Z",
     "start_time": "2024-03-21T22:07:59.762136Z"
    }
   },
   "source": [
    "# Call train_test_split on X, y. Make the test_size = 0.25, and random_state = 246\n",
    "splits = train_test_split(X, y, test_size=0.25, random_state=246)\n",
    "X_train, X_test, y_train, y_test = splits\n",
    "[s.shape for s in splits]"
   ],
   "outputs": [
    {
     "data": {
      "text/plain": "[(355, 9), (119, 9), (355,), (119,)]"
     },
     "execution_count": 29,
     "metadata": {},
     "output_type": "execute_result"
    }
   ],
   "execution_count": 29
  },
  {
   "cell_type": "markdown",
   "metadata": {
    "colab_type": "text",
    "id": "nqvyCX-6DuWb"
   },
   "source": [
    "# 3. Modelling\n",
    "It's useful to look at the scikit-learn documentation on decision trees https://scikit-learn.org/stable/modules/tree.html before launching into applying them. If you haven't seen them before, take a look at that link, in particular the section `1.10.5.` "
   ]
  },
  {
   "cell_type": "markdown",
   "metadata": {
    "colab_type": "text",
    "id": "RIm9IN5HDuWc"
   },
   "source": [
    "## Model 1: Entropy model - no max_depth\n",
    "\n",
    "We'll give you a little more guidance here, as the Python is hard to deduce, and scikitlearn takes some getting used to.\n",
    "\n",
    "Theoretically, let's remind ourselves of what's going on with a decision tree implementing an entropy model.\n",
    "\n",
    "Ross Quinlan's **ID3 Algorithm** was one of the first, and one of the most basic, to use entropy as a metric.\n",
    "\n",
    "**Entropy** is a measure of how uncertain we are about which category the data-points fall into at a given point in the tree. The **Information gain** of a specific feature with a threshold (such as 'spent_last_month <= 138.0') is the difference in entropy that exists before and after splitting on that feature; i.e., the information we gain about the categories of the data-points by splitting on that feature and that threshold. \n",
    "\n",
    "Naturally, we want to minimize entropy and maximize information gain. Quinlan's ID3 algorithm is designed to output a tree such that the features at each node, starting from the root, and going all the way down to the leaves, have maximal information gain. We want a tree whose leaves have elements that are *homogeneous*, that is, all of the same category. \n",
    "\n",
    "The first model will be the hardest. Persevere and you'll reap the rewards: you can use almost exactly the same code for the other models. "
   ]
  },
  {
   "cell_type": "code",
   "metadata": {
    "colab": {},
    "colab_type": "code",
    "id": "8-gelLDgDuWc",
    "ExecuteTime": {
     "end_time": "2024-03-21T22:07:59.772097Z",
     "start_time": "2024-03-21T22:07:59.766017Z"
    }
   },
   "source": [
    "# Declare a variable called entr_model and use tree.DecisionTreeClassifier. \n",
    "entr_model = tree.DecisionTreeClassifier(criterion='entropy', random_state=246)\n",
    "\n",
    "# Call fit() on entr_model\n",
    "entr_model.fit(X_train, y_train)\n",
    "\n",
    "# Call predict() on entr_model with X_test passed to it, and assign the result to a variable y_pred \n",
    "y_pred = entr_model.predict(X_test)\n",
    "\n",
    "# Call Series on our y_pred variable with the following: pd.Series(y_pred)\n",
    "y_pred = pd.Series(y_pred, index=y_test.index)\n",
    "\n",
    "# Check out entr_model\n",
    "entr_model"
   ],
   "outputs": [
    {
     "data": {
      "text/plain": "DecisionTreeClassifier(criterion='entropy', random_state=246)",
      "text/html": "<style>#sk-container-id-1 {color: black;}#sk-container-id-1 pre{padding: 0;}#sk-container-id-1 div.sk-toggleable {background-color: white;}#sk-container-id-1 label.sk-toggleable__label {cursor: pointer;display: block;width: 100%;margin-bottom: 0;padding: 0.3em;box-sizing: border-box;text-align: center;}#sk-container-id-1 label.sk-toggleable__label-arrow:before {content: \"▸\";float: left;margin-right: 0.25em;color: #696969;}#sk-container-id-1 label.sk-toggleable__label-arrow:hover:before {color: black;}#sk-container-id-1 div.sk-estimator:hover label.sk-toggleable__label-arrow:before {color: black;}#sk-container-id-1 div.sk-toggleable__content {max-height: 0;max-width: 0;overflow: hidden;text-align: left;background-color: #f0f8ff;}#sk-container-id-1 div.sk-toggleable__content pre {margin: 0.2em;color: black;border-radius: 0.25em;background-color: #f0f8ff;}#sk-container-id-1 input.sk-toggleable__control:checked~div.sk-toggleable__content {max-height: 200px;max-width: 100%;overflow: auto;}#sk-container-id-1 input.sk-toggleable__control:checked~label.sk-toggleable__label-arrow:before {content: \"▾\";}#sk-container-id-1 div.sk-estimator input.sk-toggleable__control:checked~label.sk-toggleable__label {background-color: #d4ebff;}#sk-container-id-1 div.sk-label input.sk-toggleable__control:checked~label.sk-toggleable__label {background-color: #d4ebff;}#sk-container-id-1 input.sk-hidden--visually {border: 0;clip: rect(1px 1px 1px 1px);clip: rect(1px, 1px, 1px, 1px);height: 1px;margin: -1px;overflow: hidden;padding: 0;position: absolute;width: 1px;}#sk-container-id-1 div.sk-estimator {font-family: monospace;background-color: #f0f8ff;border: 1px dotted black;border-radius: 0.25em;box-sizing: border-box;margin-bottom: 0.5em;}#sk-container-id-1 div.sk-estimator:hover {background-color: #d4ebff;}#sk-container-id-1 div.sk-parallel-item::after {content: \"\";width: 100%;border-bottom: 1px solid gray;flex-grow: 1;}#sk-container-id-1 div.sk-label:hover label.sk-toggleable__label {background-color: #d4ebff;}#sk-container-id-1 div.sk-serial::before {content: \"\";position: absolute;border-left: 1px solid gray;box-sizing: border-box;top: 0;bottom: 0;left: 50%;z-index: 0;}#sk-container-id-1 div.sk-serial {display: flex;flex-direction: column;align-items: center;background-color: white;padding-right: 0.2em;padding-left: 0.2em;position: relative;}#sk-container-id-1 div.sk-item {position: relative;z-index: 1;}#sk-container-id-1 div.sk-parallel {display: flex;align-items: stretch;justify-content: center;background-color: white;position: relative;}#sk-container-id-1 div.sk-item::before, #sk-container-id-1 div.sk-parallel-item::before {content: \"\";position: absolute;border-left: 1px solid gray;box-sizing: border-box;top: 0;bottom: 0;left: 50%;z-index: -1;}#sk-container-id-1 div.sk-parallel-item {display: flex;flex-direction: column;z-index: 1;position: relative;background-color: white;}#sk-container-id-1 div.sk-parallel-item:first-child::after {align-self: flex-end;width: 50%;}#sk-container-id-1 div.sk-parallel-item:last-child::after {align-self: flex-start;width: 50%;}#sk-container-id-1 div.sk-parallel-item:only-child::after {width: 0;}#sk-container-id-1 div.sk-dashed-wrapped {border: 1px dashed gray;margin: 0 0.4em 0.5em 0.4em;box-sizing: border-box;padding-bottom: 0.4em;background-color: white;}#sk-container-id-1 div.sk-label label {font-family: monospace;font-weight: bold;display: inline-block;line-height: 1.2em;}#sk-container-id-1 div.sk-label-container {text-align: center;}#sk-container-id-1 div.sk-container {/* jupyter's `normalize.less` sets `[hidden] { display: none; }` but bootstrap.min.css set `[hidden] { display: none !important; }` so we also need the `!important` here to be able to override the default hidden behavior on the sphinx rendered scikit-learn.org. See: https://github.com/scikit-learn/scikit-learn/issues/21755 */display: inline-block !important;position: relative;}#sk-container-id-1 div.sk-text-repr-fallback {display: none;}</style><div id=\"sk-container-id-1\" class=\"sk-top-container\"><div class=\"sk-text-repr-fallback\"><pre>DecisionTreeClassifier(criterion=&#x27;entropy&#x27;, random_state=246)</pre><b>In a Jupyter environment, please rerun this cell to show the HTML representation or trust the notebook. <br />On GitHub, the HTML representation is unable to render, please try loading this page with nbviewer.org.</b></div><div class=\"sk-container\" hidden><div class=\"sk-item\"><div class=\"sk-estimator sk-toggleable\"><input class=\"sk-toggleable__control sk-hidden--visually\" id=\"sk-estimator-id-1\" type=\"checkbox\" checked><label for=\"sk-estimator-id-1\" class=\"sk-toggleable__label sk-toggleable__label-arrow\">DecisionTreeClassifier</label><div class=\"sk-toggleable__content\"><pre>DecisionTreeClassifier(criterion=&#x27;entropy&#x27;, random_state=246)</pre></div></div></div></div></div>"
     },
     "execution_count": 30,
     "metadata": {},
     "output_type": "execute_result"
    }
   ],
   "execution_count": 30
  },
  {
   "cell_type": "code",
   "metadata": {
    "collapsed": false,
    "ExecuteTime": {
     "end_time": "2024-03-21T22:08:00.037423Z",
     "start_time": "2024-03-21T22:07:59.772753Z"
    }
   },
   "source": [
    "# Now we want to visualize the tree\n",
    "dot_data = StringIO()\n",
    "\n",
    "# We can do so with export_graphviz\n",
    "tree.export_graphviz(entr_model, out_file=dot_data,\n",
    "           filled=True, rounded=True,\n",
    "           special_characters=True, feature_names=X_train.columns,class_names = [\"NO\", \"YES\"])\n",
    "\n",
    "# Alternatively for class_names use entr_model.classes_\n",
    "graph = pydotplus.graph_from_dot_data(dot_data.getvalue())\n",
    "Image(graph.create_png())"
   ],
   "outputs": [
    {
     "ename": "NameError",
     "evalue": "name 'pydotplus' is not defined",
     "output_type": "error",
     "traceback": [
      "\u001B[0;31m---------------------------------------------------------------------------\u001B[0m",
      "\u001B[0;31mNameError\u001B[0m                                 Traceback (most recent call last)",
      "Cell \u001B[0;32mIn[31], line 10\u001B[0m\n\u001B[1;32m      5\u001B[0m tree\u001B[38;5;241m.\u001B[39mexport_graphviz(entr_model, out_file\u001B[38;5;241m=\u001B[39mdot_data,\n\u001B[1;32m      6\u001B[0m            filled\u001B[38;5;241m=\u001B[39m\u001B[38;5;28;01mTrue\u001B[39;00m, rounded\u001B[38;5;241m=\u001B[39m\u001B[38;5;28;01mTrue\u001B[39;00m,\n\u001B[1;32m      7\u001B[0m            special_characters\u001B[38;5;241m=\u001B[39m\u001B[38;5;28;01mTrue\u001B[39;00m, feature_names\u001B[38;5;241m=\u001B[39mX_train\u001B[38;5;241m.\u001B[39mcolumns,class_names \u001B[38;5;241m=\u001B[39m [\u001B[38;5;124m\"\u001B[39m\u001B[38;5;124mNO\u001B[39m\u001B[38;5;124m\"\u001B[39m, \u001B[38;5;124m\"\u001B[39m\u001B[38;5;124mYES\u001B[39m\u001B[38;5;124m\"\u001B[39m])\n\u001B[1;32m      9\u001B[0m \u001B[38;5;66;03m# Alternatively for class_names use entr_model.classes_\u001B[39;00m\n\u001B[0;32m---> 10\u001B[0m graph \u001B[38;5;241m=\u001B[39m pydotplus\u001B[38;5;241m.\u001B[39mgraph_from_dot_data(dot_data\u001B[38;5;241m.\u001B[39mgetvalue())\n\u001B[1;32m     11\u001B[0m Image(graph\u001B[38;5;241m.\u001B[39mcreate_png())\n",
      "\u001B[0;31mNameError\u001B[0m: name 'pydotplus' is not defined"
     ]
    }
   ],
   "execution_count": 31
  },
  {
   "cell_type": "markdown",
   "metadata": {
    "colab_type": "text",
    "id": "dFbii4IADuWg"
   },
   "source": [
    "## Model 1: Entropy model - no max_depth: Interpretation and evaluation"
   ]
  },
  {
   "cell_type": "code",
   "metadata": {
    "colab": {},
    "colab_type": "code",
    "id": "XRL0klK4DuWh",
    "ExecuteTime": {
     "end_time": "2024-03-21T22:08:06.316840Z",
     "start_time": "2024-03-21T22:08:06.308440Z"
    }
   },
   "source": [
    "# Run this block for model evaluation metrics \n",
    "print(\"Model Entropy - no max depth\")\n",
    "print(\"Accuracy:\", metrics.accuracy_score(y_test,y_pred))\n",
    "print(\"Balanced accuracy:\", metrics.balanced_accuracy_score(y_test,y_pred))\n",
    "print('Precision score for \"Yes\"' , metrics.precision_score(y_test,y_pred, pos_label = \"Yes\"))\n",
    "print('Precision score for \"No\"' , metrics.precision_score(y_test,y_pred, pos_label = \"No\"))\n",
    "print('Recall score for \"Yes\"' , metrics.recall_score(y_test,y_pred, pos_label = \"Yes\"))\n",
    "print('Recall score for \"No\"' , metrics.recall_score(y_test,y_pred, pos_label = \"No\"))"
   ],
   "outputs": [
    {
     "name": "stdout",
     "output_type": "stream",
     "text": [
      "Model Entropy - no max depth\n",
      "Accuracy: 0.9915966386554622\n",
      "Balanced accuracy: 0.9878048780487805\n",
      "Precision score for \"Yes\" 0.9873417721518988\n",
      "Precision score for \"No\" 1.0\n",
      "Recall score for \"Yes\" 1.0\n",
      "Recall score for \"No\" 0.975609756097561\n"
     ]
    }
   ],
   "execution_count": 32
  },
  {
   "cell_type": "markdown",
   "metadata": {
    "colab_type": "text",
    "id": "icGOPFQ_DuWj"
   },
   "source": [
    "  What can you infer from these results? Write your conclusions here:\n",
    "*The entropy-based decision tree classifier is extremely accurate in predicting decisions. Only one out of 119 customers in the test set was mis-classified, the model predicting a 'Yes' instead of a 'No':*"
   ]
  },
  {
   "cell_type": "code",
   "outputs": [
    {
     "data": {
      "text/plain": "     Age  Gender  num_coffeeBags_per_year  spent_last_week  spent_last_month  \\\n373   51  Female                        3               30                49   \n\n     salary  Distance  Online Decision  \n373   31815  3.072476       0       No  ",
      "text/html": "<div>\n<style scoped>\n    .dataframe tbody tr th:only-of-type {\n        vertical-align: middle;\n    }\n\n    .dataframe tbody tr th {\n        vertical-align: top;\n    }\n\n    .dataframe thead th {\n        text-align: right;\n    }\n</style>\n<table border=\"1\" class=\"dataframe\">\n  <thead>\n    <tr style=\"text-align: right;\">\n      <th></th>\n      <th>Age</th>\n      <th>Gender</th>\n      <th>num_coffeeBags_per_year</th>\n      <th>spent_last_week</th>\n      <th>spent_last_month</th>\n      <th>salary</th>\n      <th>Distance</th>\n      <th>Online</th>\n      <th>Decision</th>\n    </tr>\n  </thead>\n  <tbody>\n    <tr>\n      <th>373</th>\n      <td>51</td>\n      <td>Female</td>\n      <td>3</td>\n      <td>30</td>\n      <td>49</td>\n      <td>31815</td>\n      <td>3.072476</td>\n      <td>0</td>\n      <td>No</td>\n    </tr>\n  </tbody>\n</table>\n</div>"
     },
     "execution_count": 33,
     "metadata": {},
     "output_type": "execute_result"
    }
   ],
   "source": [
    "misclassified = y_pred[y_pred != y_test]\n",
    "NOPrediction.loc[misclassified.index]"
   ],
   "metadata": {
    "collapsed": false,
    "ExecuteTime": {
     "end_time": "2024-03-21T22:08:06.736727Z",
     "start_time": "2024-03-21T22:08:06.732455Z"
    }
   },
   "execution_count": 33
  },
  {
   "cell_type": "markdown",
   "metadata": {
    "colab_type": "text",
    "id": "MHipdpfxDuWk"
   },
   "source": [
    "## Model 2: Gini impurity model - no max_depth\n",
    "\n",
    "Gini impurity, like entropy, is a measure of how well a given feature (and threshold) splits the data into categories.\n",
    "\n",
    "Their equations are similar, but Gini impurity doesn't require logarithmic functions, which can be computationally expensive. "
   ]
  },
  {
   "cell_type": "code",
   "metadata": {
    "colab": {},
    "colab_type": "code",
    "id": "FyBljeIpDuWl",
    "ExecuteTime": {
     "end_time": "2024-03-21T22:08:07.130330Z",
     "start_time": "2024-03-21T22:08:07.125293Z"
    }
   },
   "source": [
    "# Make a variable called gini_model, and assign it exactly what you assigned entr_model with above, but with the\n",
    "# criterion changed to 'gini'\n",
    "gini_model = tree.DecisionTreeClassifier(criterion='gini', random_state=246)\n",
    "\n",
    "# Call fit() on the gini_model as you did with the entr_model\n",
    "gini_model.fit(X_train, y_train)\n",
    "\n",
    "# Call predict() on the gini_model as you did with the entr_model \n",
    "y_pred = gini_model.predict(X_test)\n",
    "\n",
    "# Turn y_pred into a series, as before\n",
    "y_pred = pd.Series(y_pred, index=y_test.index)\n",
    "\n",
    "# Check out gini_model\n",
    "gini_model"
   ],
   "outputs": [
    {
     "data": {
      "text/plain": "DecisionTreeClassifier(random_state=246)",
      "text/html": "<style>#sk-container-id-2 {color: black;}#sk-container-id-2 pre{padding: 0;}#sk-container-id-2 div.sk-toggleable {background-color: white;}#sk-container-id-2 label.sk-toggleable__label {cursor: pointer;display: block;width: 100%;margin-bottom: 0;padding: 0.3em;box-sizing: border-box;text-align: center;}#sk-container-id-2 label.sk-toggleable__label-arrow:before {content: \"▸\";float: left;margin-right: 0.25em;color: #696969;}#sk-container-id-2 label.sk-toggleable__label-arrow:hover:before {color: black;}#sk-container-id-2 div.sk-estimator:hover label.sk-toggleable__label-arrow:before {color: black;}#sk-container-id-2 div.sk-toggleable__content {max-height: 0;max-width: 0;overflow: hidden;text-align: left;background-color: #f0f8ff;}#sk-container-id-2 div.sk-toggleable__content pre {margin: 0.2em;color: black;border-radius: 0.25em;background-color: #f0f8ff;}#sk-container-id-2 input.sk-toggleable__control:checked~div.sk-toggleable__content {max-height: 200px;max-width: 100%;overflow: auto;}#sk-container-id-2 input.sk-toggleable__control:checked~label.sk-toggleable__label-arrow:before {content: \"▾\";}#sk-container-id-2 div.sk-estimator input.sk-toggleable__control:checked~label.sk-toggleable__label {background-color: #d4ebff;}#sk-container-id-2 div.sk-label input.sk-toggleable__control:checked~label.sk-toggleable__label {background-color: #d4ebff;}#sk-container-id-2 input.sk-hidden--visually {border: 0;clip: rect(1px 1px 1px 1px);clip: rect(1px, 1px, 1px, 1px);height: 1px;margin: -1px;overflow: hidden;padding: 0;position: absolute;width: 1px;}#sk-container-id-2 div.sk-estimator {font-family: monospace;background-color: #f0f8ff;border: 1px dotted black;border-radius: 0.25em;box-sizing: border-box;margin-bottom: 0.5em;}#sk-container-id-2 div.sk-estimator:hover {background-color: #d4ebff;}#sk-container-id-2 div.sk-parallel-item::after {content: \"\";width: 100%;border-bottom: 1px solid gray;flex-grow: 1;}#sk-container-id-2 div.sk-label:hover label.sk-toggleable__label {background-color: #d4ebff;}#sk-container-id-2 div.sk-serial::before {content: \"\";position: absolute;border-left: 1px solid gray;box-sizing: border-box;top: 0;bottom: 0;left: 50%;z-index: 0;}#sk-container-id-2 div.sk-serial {display: flex;flex-direction: column;align-items: center;background-color: white;padding-right: 0.2em;padding-left: 0.2em;position: relative;}#sk-container-id-2 div.sk-item {position: relative;z-index: 1;}#sk-container-id-2 div.sk-parallel {display: flex;align-items: stretch;justify-content: center;background-color: white;position: relative;}#sk-container-id-2 div.sk-item::before, #sk-container-id-2 div.sk-parallel-item::before {content: \"\";position: absolute;border-left: 1px solid gray;box-sizing: border-box;top: 0;bottom: 0;left: 50%;z-index: -1;}#sk-container-id-2 div.sk-parallel-item {display: flex;flex-direction: column;z-index: 1;position: relative;background-color: white;}#sk-container-id-2 div.sk-parallel-item:first-child::after {align-self: flex-end;width: 50%;}#sk-container-id-2 div.sk-parallel-item:last-child::after {align-self: flex-start;width: 50%;}#sk-container-id-2 div.sk-parallel-item:only-child::after {width: 0;}#sk-container-id-2 div.sk-dashed-wrapped {border: 1px dashed gray;margin: 0 0.4em 0.5em 0.4em;box-sizing: border-box;padding-bottom: 0.4em;background-color: white;}#sk-container-id-2 div.sk-label label {font-family: monospace;font-weight: bold;display: inline-block;line-height: 1.2em;}#sk-container-id-2 div.sk-label-container {text-align: center;}#sk-container-id-2 div.sk-container {/* jupyter's `normalize.less` sets `[hidden] { display: none; }` but bootstrap.min.css set `[hidden] { display: none !important; }` so we also need the `!important` here to be able to override the default hidden behavior on the sphinx rendered scikit-learn.org. See: https://github.com/scikit-learn/scikit-learn/issues/21755 */display: inline-block !important;position: relative;}#sk-container-id-2 div.sk-text-repr-fallback {display: none;}</style><div id=\"sk-container-id-2\" class=\"sk-top-container\"><div class=\"sk-text-repr-fallback\"><pre>DecisionTreeClassifier(random_state=246)</pre><b>In a Jupyter environment, please rerun this cell to show the HTML representation or trust the notebook. <br />On GitHub, the HTML representation is unable to render, please try loading this page with nbviewer.org.</b></div><div class=\"sk-container\" hidden><div class=\"sk-item\"><div class=\"sk-estimator sk-toggleable\"><input class=\"sk-toggleable__control sk-hidden--visually\" id=\"sk-estimator-id-2\" type=\"checkbox\" checked><label for=\"sk-estimator-id-2\" class=\"sk-toggleable__label sk-toggleable__label-arrow\">DecisionTreeClassifier</label><div class=\"sk-toggleable__content\"><pre>DecisionTreeClassifier(random_state=246)</pre></div></div></div></div></div>"
     },
     "execution_count": 34,
     "metadata": {},
     "output_type": "execute_result"
    }
   ],
   "execution_count": 34
  },
  {
   "cell_type": "code",
   "metadata": {
    "colab": {},
    "colab_type": "code",
    "id": "d20SMUmgDuWo",
    "ExecuteTime": {
     "end_time": "2024-03-21T22:08:07.419858Z",
     "start_time": "2024-03-21T22:08:07.417359Z"
    }
   },
   "source": [
    "# As before, but make the model name gini_model\n",
    "_ _ _ \n",
    "_ _ _ \n",
    "\n",
    "# Alternatively for class_names use gini_model.classes_\n",
    "_ _ _ "
   ],
   "outputs": [
    {
     "ename": "SyntaxError",
     "evalue": "invalid syntax (621996667.py, line 2)",
     "output_type": "error",
     "traceback": [
      "\u001B[0;36m  Cell \u001B[0;32mIn[35], line 2\u001B[0;36m\u001B[0m\n\u001B[0;31m    _ _ _\u001B[0m\n\u001B[0m      ^\u001B[0m\n\u001B[0;31mSyntaxError\u001B[0m\u001B[0;31m:\u001B[0m invalid syntax\n"
     ]
    }
   ],
   "execution_count": 35
  },
  {
   "cell_type": "code",
   "metadata": {
    "colab": {},
    "colab_type": "code",
    "id": "T0RadBy0DuWp",
    "ExecuteTime": {
     "end_time": "2024-03-21T22:08:07.445023Z",
     "start_time": "2024-03-21T22:08:07.438883Z"
    }
   },
   "source": [
    "# Run this block for model evaluation\n",
    "print(\"Model Gini impurity model\")\n",
    "print(\"Accuracy:\", metrics.accuracy_score(y_test,y_pred))\n",
    "print(\"Balanced accuracy:\", metrics.balanced_accuracy_score(y_test,y_pred))\n",
    "print('Precision score' , metrics.precision_score(y_test,y_pred, pos_label = \"Yes\"))\n",
    "print('Recall score' , metrics.recall_score(y_test,y_pred, pos_label = \"No\"))"
   ],
   "outputs": [
    {
     "name": "stdout",
     "output_type": "stream",
     "text": [
      "Model Gini impurity model\n",
      "Accuracy: 0.9831932773109243\n",
      "Balanced accuracy: 0.9813946216385241\n",
      "Precision score 0.9871794871794872\n",
      "Recall score 0.975609756097561\n"
     ]
    }
   ],
   "execution_count": 36
  },
  {
   "cell_type": "code",
   "outputs": [
    {
     "data": {
      "text/plain": "     Age  Gender  num_coffeeBags_per_year  spent_last_week  spent_last_month  \\\n373   51  Female                        3               30                49   \n449   23    Male                        3               47               140   \n\n     salary   Distance  Online Decision  \n373   31815   3.072476       0       No  \n449   61478  10.868024       1      Yes  ",
      "text/html": "<div>\n<style scoped>\n    .dataframe tbody tr th:only-of-type {\n        vertical-align: middle;\n    }\n\n    .dataframe tbody tr th {\n        vertical-align: top;\n    }\n\n    .dataframe thead th {\n        text-align: right;\n    }\n</style>\n<table border=\"1\" class=\"dataframe\">\n  <thead>\n    <tr style=\"text-align: right;\">\n      <th></th>\n      <th>Age</th>\n      <th>Gender</th>\n      <th>num_coffeeBags_per_year</th>\n      <th>spent_last_week</th>\n      <th>spent_last_month</th>\n      <th>salary</th>\n      <th>Distance</th>\n      <th>Online</th>\n      <th>Decision</th>\n    </tr>\n  </thead>\n  <tbody>\n    <tr>\n      <th>373</th>\n      <td>51</td>\n      <td>Female</td>\n      <td>3</td>\n      <td>30</td>\n      <td>49</td>\n      <td>31815</td>\n      <td>3.072476</td>\n      <td>0</td>\n      <td>No</td>\n    </tr>\n    <tr>\n      <th>449</th>\n      <td>23</td>\n      <td>Male</td>\n      <td>3</td>\n      <td>47</td>\n      <td>140</td>\n      <td>61478</td>\n      <td>10.868024</td>\n      <td>1</td>\n      <td>Yes</td>\n    </tr>\n  </tbody>\n</table>\n</div>"
     },
     "execution_count": 37,
     "metadata": {},
     "output_type": "execute_result"
    }
   ],
   "source": [
    "misclassified = y_pred[y_pred != y_test]\n",
    "NOPrediction.loc[misclassified.index]"
   ],
   "metadata": {
    "collapsed": false,
    "ExecuteTime": {
     "end_time": "2024-03-21T22:08:07.795960Z",
     "start_time": "2024-03-21T22:08:07.792354Z"
    }
   },
   "execution_count": 37
  },
  {
   "cell_type": "markdown",
   "source": [
    "How do the results here compare to the previous model? Write your judgements here:\n",
    "*The Gini impurity-based decision tree is also highly accurate at 98%, compared to 99% for the Entropy-based tree. It only misclassified 2 out of 119 customers in the test set: a 'No' customer (the same one as the entropy model) and a 'Yes' customer.*"
   ],
   "metadata": {
    "colab_type": "text",
    "id": "LR5LkC_yDuWs"
   }
  },
  {
   "cell_type": "markdown",
   "metadata": {
    "colab_type": "text",
    "id": "3PctBjTADuWs"
   },
   "source": [
    "## Model 3: Entropy model - max depth 3\n",
    "We're going to try to limit the depth of our decision tree, using entropy first.  \n",
    "\n",
    "As you know, we need to strike a balance with tree depth. \n",
    "\n",
    "Insufficiently deep, and we're not giving the tree the opportunity to spot the right patterns in the training data.\n",
    "\n",
    "Excessively deep, and we're probably going to make a tree that overfits to the training data, at the cost of very high error on the (hitherto unseen) test data. \n",
    "\n",
    "Sophisticated data scientists use methods like random search with cross-validation to systematically find a good depth for their tree. We'll start with picking 3, and see how that goes. "
   ]
  },
  {
   "cell_type": "code",
   "metadata": {
    "colab": {},
    "colab_type": "code",
    "id": "cMiPjWClDuWt",
    "ExecuteTime": {
     "end_time": "2024-03-21T22:08:08.202441Z",
     "start_time": "2024-03-21T22:08:08.197548Z"
    }
   },
   "source": [
    "# Made a model as before, but call it entr_model2, and make the max_depth parameter equal to 3. \n",
    "# Execute the fitting, predicting, and Series operations as before\n",
    "entr_model2 = tree.DecisionTreeClassifier(criterion='entropy', max_depth=3, random_state=246)\n",
    "entr_model2.fit(X_train, y_train)\n",
    "y_pred = pd.Series(entr_model2.predict(X_test), index=y_test.index)\n",
    "entr_model2"
   ],
   "outputs": [
    {
     "data": {
      "text/plain": "DecisionTreeClassifier(criterion='entropy', max_depth=3, random_state=246)",
      "text/html": "<style>#sk-container-id-3 {color: black;}#sk-container-id-3 pre{padding: 0;}#sk-container-id-3 div.sk-toggleable {background-color: white;}#sk-container-id-3 label.sk-toggleable__label {cursor: pointer;display: block;width: 100%;margin-bottom: 0;padding: 0.3em;box-sizing: border-box;text-align: center;}#sk-container-id-3 label.sk-toggleable__label-arrow:before {content: \"▸\";float: left;margin-right: 0.25em;color: #696969;}#sk-container-id-3 label.sk-toggleable__label-arrow:hover:before {color: black;}#sk-container-id-3 div.sk-estimator:hover label.sk-toggleable__label-arrow:before {color: black;}#sk-container-id-3 div.sk-toggleable__content {max-height: 0;max-width: 0;overflow: hidden;text-align: left;background-color: #f0f8ff;}#sk-container-id-3 div.sk-toggleable__content pre {margin: 0.2em;color: black;border-radius: 0.25em;background-color: #f0f8ff;}#sk-container-id-3 input.sk-toggleable__control:checked~div.sk-toggleable__content {max-height: 200px;max-width: 100%;overflow: auto;}#sk-container-id-3 input.sk-toggleable__control:checked~label.sk-toggleable__label-arrow:before {content: \"▾\";}#sk-container-id-3 div.sk-estimator input.sk-toggleable__control:checked~label.sk-toggleable__label {background-color: #d4ebff;}#sk-container-id-3 div.sk-label input.sk-toggleable__control:checked~label.sk-toggleable__label {background-color: #d4ebff;}#sk-container-id-3 input.sk-hidden--visually {border: 0;clip: rect(1px 1px 1px 1px);clip: rect(1px, 1px, 1px, 1px);height: 1px;margin: -1px;overflow: hidden;padding: 0;position: absolute;width: 1px;}#sk-container-id-3 div.sk-estimator {font-family: monospace;background-color: #f0f8ff;border: 1px dotted black;border-radius: 0.25em;box-sizing: border-box;margin-bottom: 0.5em;}#sk-container-id-3 div.sk-estimator:hover {background-color: #d4ebff;}#sk-container-id-3 div.sk-parallel-item::after {content: \"\";width: 100%;border-bottom: 1px solid gray;flex-grow: 1;}#sk-container-id-3 div.sk-label:hover label.sk-toggleable__label {background-color: #d4ebff;}#sk-container-id-3 div.sk-serial::before {content: \"\";position: absolute;border-left: 1px solid gray;box-sizing: border-box;top: 0;bottom: 0;left: 50%;z-index: 0;}#sk-container-id-3 div.sk-serial {display: flex;flex-direction: column;align-items: center;background-color: white;padding-right: 0.2em;padding-left: 0.2em;position: relative;}#sk-container-id-3 div.sk-item {position: relative;z-index: 1;}#sk-container-id-3 div.sk-parallel {display: flex;align-items: stretch;justify-content: center;background-color: white;position: relative;}#sk-container-id-3 div.sk-item::before, #sk-container-id-3 div.sk-parallel-item::before {content: \"\";position: absolute;border-left: 1px solid gray;box-sizing: border-box;top: 0;bottom: 0;left: 50%;z-index: -1;}#sk-container-id-3 div.sk-parallel-item {display: flex;flex-direction: column;z-index: 1;position: relative;background-color: white;}#sk-container-id-3 div.sk-parallel-item:first-child::after {align-self: flex-end;width: 50%;}#sk-container-id-3 div.sk-parallel-item:last-child::after {align-self: flex-start;width: 50%;}#sk-container-id-3 div.sk-parallel-item:only-child::after {width: 0;}#sk-container-id-3 div.sk-dashed-wrapped {border: 1px dashed gray;margin: 0 0.4em 0.5em 0.4em;box-sizing: border-box;padding-bottom: 0.4em;background-color: white;}#sk-container-id-3 div.sk-label label {font-family: monospace;font-weight: bold;display: inline-block;line-height: 1.2em;}#sk-container-id-3 div.sk-label-container {text-align: center;}#sk-container-id-3 div.sk-container {/* jupyter's `normalize.less` sets `[hidden] { display: none; }` but bootstrap.min.css set `[hidden] { display: none !important; }` so we also need the `!important` here to be able to override the default hidden behavior on the sphinx rendered scikit-learn.org. See: https://github.com/scikit-learn/scikit-learn/issues/21755 */display: inline-block !important;position: relative;}#sk-container-id-3 div.sk-text-repr-fallback {display: none;}</style><div id=\"sk-container-id-3\" class=\"sk-top-container\"><div class=\"sk-text-repr-fallback\"><pre>DecisionTreeClassifier(criterion=&#x27;entropy&#x27;, max_depth=3, random_state=246)</pre><b>In a Jupyter environment, please rerun this cell to show the HTML representation or trust the notebook. <br />On GitHub, the HTML representation is unable to render, please try loading this page with nbviewer.org.</b></div><div class=\"sk-container\" hidden><div class=\"sk-item\"><div class=\"sk-estimator sk-toggleable\"><input class=\"sk-toggleable__control sk-hidden--visually\" id=\"sk-estimator-id-3\" type=\"checkbox\" checked><label for=\"sk-estimator-id-3\" class=\"sk-toggleable__label sk-toggleable__label-arrow\">DecisionTreeClassifier</label><div class=\"sk-toggleable__content\"><pre>DecisionTreeClassifier(criterion=&#x27;entropy&#x27;, max_depth=3, random_state=246)</pre></div></div></div></div></div>"
     },
     "execution_count": 38,
     "metadata": {},
     "output_type": "execute_result"
    }
   ],
   "execution_count": 38
  },
  {
   "cell_type": "code",
   "metadata": {
    "colab": {},
    "colab_type": "code",
    "id": "IRuw72VMDuWv",
    "ExecuteTime": {
     "end_time": "2024-03-21T22:08:08.254002Z",
     "start_time": "2024-03-21T22:08:08.251913Z"
    }
   },
   "source": [
    "# As before, we need to visualize the tree to grasp its nature\n",
    "_ _ _ \n",
    "\n",
    "# Alternatively for class_names use entr_model2.classes_\n",
    "_ _ _"
   ],
   "outputs": [
    {
     "ename": "SyntaxError",
     "evalue": "invalid syntax (2181041485.py, line 2)",
     "output_type": "error",
     "traceback": [
      "\u001B[0;36m  Cell \u001B[0;32mIn[39], line 2\u001B[0;36m\u001B[0m\n\u001B[0;31m    _ _ _\u001B[0m\n\u001B[0m      ^\u001B[0m\n\u001B[0;31mSyntaxError\u001B[0m\u001B[0;31m:\u001B[0m invalid syntax\n"
     ]
    }
   ],
   "execution_count": 39
  },
  {
   "cell_type": "code",
   "metadata": {
    "colab": {},
    "colab_type": "code",
    "id": "29f4vmmMDuWy",
    "ExecuteTime": {
     "end_time": "2024-03-21T22:08:08.591640Z",
     "start_time": "2024-03-21T22:08:08.586738Z"
    }
   },
   "source": [
    "# Run this block for model evaluation \n",
    "print(\"Model Entropy model max depth 3\")\n",
    "print(\"Accuracy:\", metrics.accuracy_score(y_test,y_pred))\n",
    "print(\"Balanced accuracy:\", metrics.balanced_accuracy_score(y_test,y_pred))\n",
    "print('Precision score for \"Yes\"' , metrics.precision_score(y_test,y_pred, pos_label = \"Yes\"))\n",
    "print('Recall score for \"No\"' , metrics.recall_score(y_test,y_pred, pos_label = \"No\"))"
   ],
   "outputs": [
    {
     "name": "stdout",
     "output_type": "stream",
     "text": [
      "Model Entropy model max depth 3\n",
      "Accuracy: 0.907563025210084\n",
      "Balanced accuracy: 0.8658536585365854\n",
      "Precision score for \"Yes\" 0.8764044943820225\n",
      "Recall score for \"No\" 0.7317073170731707\n"
     ]
    }
   ],
   "execution_count": 40
  },
  {
   "cell_type": "markdown",
   "metadata": {
    "colab_type": "text",
    "id": "AG7S2YgUDuW4"
   },
   "source": [
    "So our accuracy decreased, but is this certainly an inferior tree to the max depth original tree we did with Model 1? Write your conclusions here:\n",
    "*This shallower tree-based model may be less accurate, but it is easier to interpret and less likely to overfit, so it might actually perform better on out-of-set customers.*"
   ]
  },
  {
   "cell_type": "markdown",
   "metadata": {
    "colab_type": "text",
    "id": "FZTl4W3wDuW4"
   },
   "source": [
    "## Model 4: Gini impurity  model - max depth 3\n",
    "We're now going to try the same with the Gini impurity model. "
   ]
  },
  {
   "cell_type": "code",
   "metadata": {
    "colab": {},
    "colab_type": "code",
    "id": "FJK1bkG3DuW5",
    "ExecuteTime": {
     "end_time": "2024-03-21T22:08:08.958800Z",
     "start_time": "2024-03-21T22:08:08.953755Z"
    }
   },
   "source": [
    "# As before, make a variable, but call it gini_model2, and ensure the max_depth parameter is set to 3\n",
    "gini_model2 = tree.DecisionTreeClassifier(criterion='gini', max_depth=3, random_state=246)\n",
    "\n",
    "# Do the fit, predict, and series transformations as before. \n",
    "gini_model2.fit(X_train, y_train)\n",
    "y_pred = pd.Series(gini_model2.predict(X_test), index=y_test.index)\n",
    "gini_model2"
   ],
   "outputs": [
    {
     "data": {
      "text/plain": "DecisionTreeClassifier(max_depth=3, random_state=246)",
      "text/html": "<style>#sk-container-id-4 {color: black;}#sk-container-id-4 pre{padding: 0;}#sk-container-id-4 div.sk-toggleable {background-color: white;}#sk-container-id-4 label.sk-toggleable__label {cursor: pointer;display: block;width: 100%;margin-bottom: 0;padding: 0.3em;box-sizing: border-box;text-align: center;}#sk-container-id-4 label.sk-toggleable__label-arrow:before {content: \"▸\";float: left;margin-right: 0.25em;color: #696969;}#sk-container-id-4 label.sk-toggleable__label-arrow:hover:before {color: black;}#sk-container-id-4 div.sk-estimator:hover label.sk-toggleable__label-arrow:before {color: black;}#sk-container-id-4 div.sk-toggleable__content {max-height: 0;max-width: 0;overflow: hidden;text-align: left;background-color: #f0f8ff;}#sk-container-id-4 div.sk-toggleable__content pre {margin: 0.2em;color: black;border-radius: 0.25em;background-color: #f0f8ff;}#sk-container-id-4 input.sk-toggleable__control:checked~div.sk-toggleable__content {max-height: 200px;max-width: 100%;overflow: auto;}#sk-container-id-4 input.sk-toggleable__control:checked~label.sk-toggleable__label-arrow:before {content: \"▾\";}#sk-container-id-4 div.sk-estimator input.sk-toggleable__control:checked~label.sk-toggleable__label {background-color: #d4ebff;}#sk-container-id-4 div.sk-label input.sk-toggleable__control:checked~label.sk-toggleable__label {background-color: #d4ebff;}#sk-container-id-4 input.sk-hidden--visually {border: 0;clip: rect(1px 1px 1px 1px);clip: rect(1px, 1px, 1px, 1px);height: 1px;margin: -1px;overflow: hidden;padding: 0;position: absolute;width: 1px;}#sk-container-id-4 div.sk-estimator {font-family: monospace;background-color: #f0f8ff;border: 1px dotted black;border-radius: 0.25em;box-sizing: border-box;margin-bottom: 0.5em;}#sk-container-id-4 div.sk-estimator:hover {background-color: #d4ebff;}#sk-container-id-4 div.sk-parallel-item::after {content: \"\";width: 100%;border-bottom: 1px solid gray;flex-grow: 1;}#sk-container-id-4 div.sk-label:hover label.sk-toggleable__label {background-color: #d4ebff;}#sk-container-id-4 div.sk-serial::before {content: \"\";position: absolute;border-left: 1px solid gray;box-sizing: border-box;top: 0;bottom: 0;left: 50%;z-index: 0;}#sk-container-id-4 div.sk-serial {display: flex;flex-direction: column;align-items: center;background-color: white;padding-right: 0.2em;padding-left: 0.2em;position: relative;}#sk-container-id-4 div.sk-item {position: relative;z-index: 1;}#sk-container-id-4 div.sk-parallel {display: flex;align-items: stretch;justify-content: center;background-color: white;position: relative;}#sk-container-id-4 div.sk-item::before, #sk-container-id-4 div.sk-parallel-item::before {content: \"\";position: absolute;border-left: 1px solid gray;box-sizing: border-box;top: 0;bottom: 0;left: 50%;z-index: -1;}#sk-container-id-4 div.sk-parallel-item {display: flex;flex-direction: column;z-index: 1;position: relative;background-color: white;}#sk-container-id-4 div.sk-parallel-item:first-child::after {align-self: flex-end;width: 50%;}#sk-container-id-4 div.sk-parallel-item:last-child::after {align-self: flex-start;width: 50%;}#sk-container-id-4 div.sk-parallel-item:only-child::after {width: 0;}#sk-container-id-4 div.sk-dashed-wrapped {border: 1px dashed gray;margin: 0 0.4em 0.5em 0.4em;box-sizing: border-box;padding-bottom: 0.4em;background-color: white;}#sk-container-id-4 div.sk-label label {font-family: monospace;font-weight: bold;display: inline-block;line-height: 1.2em;}#sk-container-id-4 div.sk-label-container {text-align: center;}#sk-container-id-4 div.sk-container {/* jupyter's `normalize.less` sets `[hidden] { display: none; }` but bootstrap.min.css set `[hidden] { display: none !important; }` so we also need the `!important` here to be able to override the default hidden behavior on the sphinx rendered scikit-learn.org. See: https://github.com/scikit-learn/scikit-learn/issues/21755 */display: inline-block !important;position: relative;}#sk-container-id-4 div.sk-text-repr-fallback {display: none;}</style><div id=\"sk-container-id-4\" class=\"sk-top-container\"><div class=\"sk-text-repr-fallback\"><pre>DecisionTreeClassifier(max_depth=3, random_state=246)</pre><b>In a Jupyter environment, please rerun this cell to show the HTML representation or trust the notebook. <br />On GitHub, the HTML representation is unable to render, please try loading this page with nbviewer.org.</b></div><div class=\"sk-container\" hidden><div class=\"sk-item\"><div class=\"sk-estimator sk-toggleable\"><input class=\"sk-toggleable__control sk-hidden--visually\" id=\"sk-estimator-id-4\" type=\"checkbox\" checked><label for=\"sk-estimator-id-4\" class=\"sk-toggleable__label sk-toggleable__label-arrow\">DecisionTreeClassifier</label><div class=\"sk-toggleable__content\"><pre>DecisionTreeClassifier(max_depth=3, random_state=246)</pre></div></div></div></div></div>"
     },
     "execution_count": 41,
     "metadata": {},
     "output_type": "execute_result"
    }
   ],
   "execution_count": 41
  },
  {
   "cell_type": "code",
   "metadata": {
    "colab": {},
    "colab_type": "code",
    "id": "_UIWhKZBDuW7",
    "ExecuteTime": {
     "end_time": "2024-03-21T22:08:09.226989Z",
     "start_time": "2024-03-21T22:08:09.224277Z"
    }
   },
   "source": [
    "dot_data = StringIO()\n",
    "_ _ _ \n",
    "\n",
    "\n",
    "# Alternatively for class_names use gini_model2.classes_\n",
    "_ _ _"
   ],
   "outputs": [
    {
     "ename": "SyntaxError",
     "evalue": "invalid syntax (1453897042.py, line 2)",
     "output_type": "error",
     "traceback": [
      "\u001B[0;36m  Cell \u001B[0;32mIn[42], line 2\u001B[0;36m\u001B[0m\n\u001B[0;31m    _ _ _\u001B[0m\n\u001B[0m      ^\u001B[0m\n\u001B[0;31mSyntaxError\u001B[0m\u001B[0;31m:\u001B[0m invalid syntax\n"
     ]
    }
   ],
   "execution_count": 42
  },
  {
   "cell_type": "code",
   "metadata": {
    "colab": {},
    "colab_type": "code",
    "id": "R4t7e9-GDuW9",
    "ExecuteTime": {
     "end_time": "2024-03-21T22:08:09.519326Z",
     "start_time": "2024-03-21T22:08:09.513367Z"
    }
   },
   "source": [
    "print(\"Gini impurity  model - max depth 3\")\n",
    "print(\"Accuracy:\", metrics.accuracy_score(y_test,y_pred))\n",
    "print(\"Balanced accuracy:\", metrics.balanced_accuracy_score(y_test,y_pred))\n",
    "print('Precision score' , metrics.precision_score(y_test,y_pred, pos_label = \"Yes\"))\n",
    "print('Recall score' , metrics.recall_score(y_test,y_pred, pos_label = \"No\"))"
   ],
   "outputs": [
    {
     "name": "stdout",
     "output_type": "stream",
     "text": [
      "Gini impurity  model - max depth 3\n",
      "Accuracy: 0.9747899159663865\n",
      "Balanced accuracy: 0.9691994996873046\n",
      "Precision score 0.9746835443037974\n",
      "Recall score 0.9512195121951219\n"
     ]
    }
   ],
   "execution_count": 43
  },
  {
   "cell_type": "markdown",
   "metadata": {
    "colab_type": "text",
    "id": "UzGThBXSDuW-"
   },
   "source": [
    "Now this is an elegant tree. Its accuracy might not be the highest, but it's still the best model we've produced so far. Why is that? Write your answer here:\n",
    "*At 97% accuracy, the shallow Gini impurity-based tree is almost as good as the unbounded models and probably strikes the best balance between accuracy and interpretability/overfitting.*"
   ]
  },
  {
   "cell_type": "markdown",
   "metadata": {
    "colab_type": "text",
    "id": "jS1niFlCDuW_"
   },
   "source": [
    "# 4. Evaluating and concluding\n",
    "## 4a. How many customers will buy Hidden Farm coffee? \n",
    "Let's first ascertain how many loyal customers claimed, in the survey, that they will purchase the Hidden Farm coffee. "
   ]
  },
  {
   "cell_type": "code",
   "metadata": {
    "colab": {},
    "colab_type": "code",
    "id": "QPHXnHZvDuXC",
    "ExecuteTime": {
     "end_time": "2024-03-21T22:08:09.841707Z",
     "start_time": "2024-03-21T22:08:09.838956Z"
    }
   },
   "source": [
    "# Call value_counts() on the 'Decision' column of the original coffeeData\n",
    "coffeeData['Decision'].value_counts()"
   ],
   "outputs": [
    {
     "data": {
      "text/plain": "Decision\nYes    303\nNo     171\nName: count, dtype: int64"
     },
     "execution_count": 44,
     "metadata": {},
     "output_type": "execute_result"
    }
   ],
   "execution_count": 44
  },
  {
   "cell_type": "markdown",
   "metadata": {
    "colab_type": "text",
    "id": "kw_5g_ZEDuXD"
   },
   "source": [
    "Let's now determine the number of people that, according to the model, will be willing to buy the Hidden Farm coffee. \n",
    "1. First we subset the Prediction dataset into `new_X` considering all the variables except `Decision` \n",
    "2. Use that dataset to predict a new variable called `potential_buyers`"
   ]
  },
  {
   "cell_type": "code",
   "metadata": {
    "colab": {},
    "colab_type": "code",
    "id": "mwypR8ymDuXE",
    "ExecuteTime": {
     "end_time": "2024-03-21T22:08:09.966727Z",
     "start_time": "2024-03-21T22:08:09.964523Z"
    }
   },
   "source": [
    "# Feature selection\n",
    "# Make a variable called feature_cols, and assign it a list containing all the column names except 'Decision'\n",
    "feature_cols = Prediction.columns.drop('Decision')\n",
    "\n",
    "# Make a variable called new_X, and assign it the subset of Prediction, containing just the feature_cols \n",
    "new_X = Prediction[feature_cols]"
   ],
   "outputs": [],
   "execution_count": 45
  },
  {
   "cell_type": "code",
   "metadata": {
    "colab": {},
    "colab_type": "code",
    "id": "0ajvbeRSDuXG",
    "ExecuteTime": {
     "end_time": "2024-03-21T22:08:10.241858Z",
     "start_time": "2024-03-21T22:08:10.237438Z"
    }
   },
   "source": [
    "# Call get_dummies() on the Pandas object pd, with new_X plugged in, to one-hot encode all features in the training set\n",
    "new_X = pd.get_dummies(new_X)\n",
    "\n",
    "# Make a variable called potential_buyers, and assign it the result of calling predict() on a model of your choice; \n",
    "# don't forget to pass new_X to predict()\n",
    "potential_buyers = pd.Series(gini_model2.predict(new_X), index=new_X.index, name='Decision') \n",
    "potential_buyers"
   ],
   "outputs": [
    {
     "data": {
      "text/plain": "1      Yes\n3      Yes\n7      Yes\n11     Yes\n12     Yes\n      ... \n673     No\n677    Yes\n680    Yes\n682     No\n700    Yes\nName: Decision, Length: 228, dtype: object"
     },
     "execution_count": 46,
     "metadata": {},
     "output_type": "execute_result"
    }
   ],
   "execution_count": 46
  },
  {
   "cell_type": "code",
   "metadata": {
    "colab": {},
    "colab_type": "code",
    "id": "-MO_KWT9DuXI",
    "ExecuteTime": {
     "end_time": "2024-03-21T22:08:10.610458Z",
     "start_time": "2024-03-21T22:08:10.600246Z"
    }
   },
   "source": [
    "l# Let's get the numbers of YES's and NO's in the potential buyers \n",
    "# Call unique() on np, and pass potential_buyers and return_counts=True \n",
    "np.unique(potential_buyers, return_counts=True)"
   ],
   "outputs": [
    {
     "ename": "NameError",
     "evalue": "name 'l' is not defined",
     "output_type": "error",
     "traceback": [
      "\u001B[0;31m---------------------------------------------------------------------------\u001B[0m",
      "\u001B[0;31mNameError\u001B[0m                                 Traceback (most recent call last)",
      "Cell \u001B[0;32mIn[47], line 1\u001B[0m\n\u001B[0;32m----> 1\u001B[0m l\u001B[38;5;66;03m# Let's get the numbers of YES's and NO's in the potential buyers \u001B[39;00m\n\u001B[1;32m      2\u001B[0m \u001B[38;5;66;03m# Call unique() on np, and pass potential_buyers and return_counts=True \u001B[39;00m\n\u001B[1;32m      3\u001B[0m np\u001B[38;5;241m.\u001B[39munique(potential_buyers, return_counts\u001B[38;5;241m=\u001B[39m\u001B[38;5;28;01mTrue\u001B[39;00m)\n",
      "\u001B[0;31mNameError\u001B[0m: name 'l' is not defined"
     ]
    }
   ],
   "execution_count": 47
  },
  {
   "cell_type": "code",
   "outputs": [
    {
     "data": {
      "text/plain": "(array(['No', 'Yes'], dtype=object), array([171, 303]))"
     },
     "execution_count": 48,
     "metadata": {},
     "output_type": "execute_result"
    }
   ],
   "source": [
    "# Recall the number of known 'Yes' customers from the NOPrediction set:\n",
    "np.unique(y, return_counts=True)"
   ],
   "metadata": {
    "collapsed": false,
    "ExecuteTime": {
     "end_time": "2024-03-21T22:08:11.185274Z",
     "start_time": "2024-03-21T22:08:11.182795Z"
    }
   },
   "execution_count": 48
  },
  {
   "cell_type": "markdown",
   "metadata": {
    "colab_type": "text",
    "id": "3CB7HbiTDuXJ"
   },
   "source": [
    "The total number of potential buyers is 303 + 183 = 486"
   ]
  },
  {
   "cell_type": "code",
   "metadata": {
    "colab": {},
    "colab_type": "code",
    "id": "9EGFQcTuDuXK",
    "ExecuteTime": {
     "end_time": "2024-03-21T22:08:11.629865Z",
     "start_time": "2024-03-21T22:08:11.627802Z"
    }
   },
   "source": [
    "# Print the total number of surveyed people \n",
    "print(coffeeData.shape[0], \"survey entries\")"
   ],
   "outputs": [
    {
     "name": "stdout",
     "output_type": "stream",
     "text": [
      "702 survey entries\n"
     ]
    }
   ],
   "execution_count": 49
  },
  {
   "cell_type": "code",
   "outputs": [
    {
     "data": {
      "text/plain": "Decision\nYes    486\nNo     216\nName: count, dtype: int64"
     },
     "execution_count": 50,
     "metadata": {},
     "output_type": "execute_result"
    }
   ],
   "source": [
    "coffeeDataWithPredictions = pd.concat([NOPrediction, Prediction]).sort_index()\n",
    "coffeeDataWithPredictions.update(potential_buyers)\n",
    "coffeeDataWithPredictions['Decision'].value_counts(dropna=False)"
   ],
   "metadata": {
    "collapsed": false,
    "ExecuteTime": {
     "end_time": "2024-03-21T22:08:11.886783Z",
     "start_time": "2024-03-21T22:08:11.882239Z"
    }
   },
   "execution_count": 50
  },
  {
   "cell_type": "code",
   "metadata": {
    "colab": {},
    "colab_type": "code",
    "id": "22_KRMX4DuXM",
    "ExecuteTime": {
     "end_time": "2024-03-21T22:08:12.248294Z",
     "start_time": "2024-03-21T22:08:12.245844Z"
    }
   },
   "source": [
    "# Let's calculate the proportion of buyers\n",
    "(coffeeDataWithPredictions['Decision'] == 'Yes').mean()"
   ],
   "outputs": [
    {
     "data": {
      "text/plain": "0.6923076923076923"
     },
     "execution_count": 51,
     "metadata": {},
     "output_type": "execute_result"
    }
   ],
   "execution_count": 51
  },
  {
   "cell_type": "code",
   "metadata": {
    "colab": {},
    "colab_type": "code",
    "id": "xLMCDMpmDuXO",
    "ExecuteTime": {
     "end_time": "2024-03-21T22:10:29.671995Z",
     "start_time": "2024-03-21T22:10:29.669115Z"
    }
   },
   "source": [
    "# Print the percentage of people who want to buy the Hidden Farm coffee, by our model \n",
    "print(\"By our decision tree model,\", \n",
    "      round(100 * (coffeeDataWithPredictions['Decision'] == 'Yes').mean(), ndigits=1),\n",
    "      \"% of customers who returned a survey intend to buy the Hidden Farm coffee.\"\n",
    "      )"
   ],
   "outputs": [
    {
     "name": "stdout",
     "output_type": "stream",
     "text": [
      "By our decision tree model, 69.2 % of customers who returned a survey intend to buy the Hidden Farm coffee.\n"
     ]
    }
   ],
   "execution_count": 60
  },
  {
   "cell_type": "markdown",
   "metadata": {
    "colab_type": "text",
    "id": "9bRDyi6rDuXQ"
   },
   "source": [
    "## 4b. Decision\n",
    "Remember how you thought at the start: if more than 70% of the interviewed customers are likely to buy the Hidden Farm coffee, you will strike the deal with the local Hidden Farm farmers and sell the coffee. Otherwise, you won't strike the deal and the Hidden Farm coffee will remain in legends only. Well now's crunch time. Are you going to go ahead with that idea? If so, you won't be striking the deal with the Chinese farmers. \n",
    "\n",
    "They're called `decision trees`, aren't they? So where's the decision? What should you do? (Cue existential cat emoji). \n",
    "\n",
    "Ultimately, though, we can't write an algorithm to actually *make the business decision* for us. This is because such decisions depend on our values, what risks we are willing to take, the stakes of our decisions, and how important it us for us to *know* that we will succeed. What are you going to do with the models you've made? Are you going to risk everything, strike the deal with the *Hidden Farm* farmers, and sell the coffee? \n",
    "\n",
    "The philosopher of language Jason Stanley once wrote that the number of doubts our evidence has to rule out in order for us to know a given proposition depends on our stakes: the higher our stakes, the more doubts our evidence has to rule out, and therefore the harder it is for us to know things. We can end up paralyzed in predicaments; sometimes, we can act to better our situation only if we already know certain things, which we can only if our stakes were lower and we'd *already* bettered our situation. \n",
    "\n",
    "Data science and machine learning can't solve such problems. But what it can do is help us make great use of our data to help *inform* our decisions."
   ]
  },
  {
   "cell_type": "markdown",
   "metadata": {
    "colab_type": "text",
    "id": "crWWrpdox8i-"
   },
   "source": [
    "# 5. Random Forest\n",
    "You might have noticed an important fact about decision trees. Each time we run a given decision tree algorithm to make a prediction (such as whether customers will buy the Hidden Farm coffee) we will actually get a slightly different result. This might seem weird, but it has a simple explanation: machine learning algorithms are by definition ***stochastic***, in that their output is at least partly determined by randomness. \n",
    "\n",
    "To account for this variability and ensure that we get the most accurate prediction, we might want to actually make lots of decision trees, and get a value that captures the centre or average of the outputs of those trees. Luckily, there's a method for this, known as the ***Random Forest***. \n",
    "\n",
    "Essentially, Random Forest involves making lots of trees with similar properties, and then performing summary statistics on the outputs of those trees to reach that central value. Random forests are hugely powerful classifers, and they can improve predictive accuracy and control over-fitting. \n",
    "\n",
    "Why not try to inform your decision with random forest? You'll need to make use of the RandomForestClassifier function within the sklearn.ensemble module, found [here](https://scikit-learn.org/stable/modules/generated/sklearn.ensemble.RandomForestClassifier.html). "
   ]
  },
  {
   "cell_type": "markdown",
   "metadata": {
    "colab_type": "text",
    "id": "fI4fiVWq0IH9"
   },
   "source": [
    "### 5a. Import necessary modules"
   ]
  },
  {
   "cell_type": "code",
   "metadata": {
    "colab": {},
    "colab_type": "code",
    "id": "vSRTnHnD0D-O",
    "ExecuteTime": {
     "end_time": "2024-03-21T22:11:45.254799Z",
     "start_time": "2024-03-21T22:11:45.252137Z"
    }
   },
   "source": [
    "from sklearn.ensemble import RandomForestClassifier\n",
    "from sklearn.datasets import make_classification"
   ],
   "outputs": [],
   "execution_count": 61
  },
  {
   "cell_type": "markdown",
   "metadata": {
    "colab_type": "text",
    "id": "jKmFvvjb0WB9"
   },
   "source": [
    "### 5b. Model\n",
    "You'll use your X_train and y_train variables just as before.\n",
    "\n",
    "You'll then need to make a variable (call it firstRFModel) to store your new Random Forest model. You'll assign this variable the result of calling RandomForestClassifier().\n",
    "\n",
    "Then, just as before, you'll call fit() on that firstRFModel variable, and plug in X_train and y_train.\n",
    "\n",
    "Finally, you should make a variable called y_pred, and assign it the result of calling the predict() method on your new firstRFModel, with the X_test data passed to it. "
   ]
  },
  {
   "cell_type": "code",
   "metadata": {
    "colab": {},
    "colab_type": "code",
    "id": "OQEeTiRG1aSm"
   },
   "source": [
    "# Plug in appropriate max_depth and random_state parameters \n",
    "_ _ _ \n",
    "\n",
    "# Model and fit\n",
    "_ _ _ \n",
    "\n",
    "\n"
   ],
   "outputs": [],
   "execution_count": null
  },
  {
   "cell_type": "markdown",
   "metadata": {
    "colab_type": "text",
    "id": "sCIt6pyn1zpb"
   },
   "source": [
    "### 5c. Revise conclusion\n",
    "\n",
    "Has your conclusion changed? Or is the result of executing random forest the same as your best model reached by a single decision tree? "
   ]
  }
 ],
 "metadata": {
  "colab": {
   "collapsed_sections": [],
   "name": "Springboard Decision Tree Specialty Coffee Case Study - Tier 3.ipynb",
   "provenance": []
  },
  "kernelspec": {
   "display_name": "Python 3",
   "language": "python",
   "name": "python3"
  },
  "language_info": {
   "codemirror_mode": {
    "name": "ipython",
    "version": 3
   },
   "file_extension": ".py",
   "mimetype": "text/x-python",
   "name": "python",
   "nbconvert_exporter": "python",
   "pygments_lexer": "ipython3",
   "version": "3.7.3"
  }
 },
 "nbformat": 4,
 "nbformat_minor": 4
}
