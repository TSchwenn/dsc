{
 "cells": [
  {
   "cell_type": "markdown",
   "metadata": {},
   "source": [
    "## Euclidean and Manhattan Distance Calculations (completed)\n",
    "\n",
    "In this short mini project you will see examples and comparisons of distance measures. Specifically, you'll visually compare the Euclidean distance to the Manhattan distance measures. The application of distance measures has a multitude of uses in data science and is the foundation of many algorithms you'll be using such as Prinical Components Analysis."
   ]
  },
  {
   "cell_type": "code",
   "execution_count": null,
   "metadata": {
    "is_executing": true
   },
   "outputs": [],
   "source": [
    "import numpy as np\n",
    "import pandas as pd\n",
    "import matplotlib.pyplot as plt\n",
    "%matplotlib inline\n",
    "plt.style.use('ggplot')\n",
    "import seaborn as sns"
   ]
  },
  {
   "cell_type": "code",
   "execution_count": 1,
   "metadata": {
    "ExecuteTime": {
     "end_time": "2024-04-03T18:47:33.524609Z",
     "start_time": "2024-04-03T18:47:33.266718Z"
    }
   },
   "outputs": [
    {
     "ename": "NameError",
     "evalue": "name 'pd' is not defined",
     "output_type": "error",
     "traceback": [
      "\u001B[0;31m---------------------------------------------------------------------------\u001B[0m",
      "\u001B[0;31mNameError\u001B[0m                                 Traceback (most recent call last)",
      "Cell \u001B[0;32mIn[1], line 2\u001B[0m\n\u001B[1;32m      1\u001B[0m \u001B[38;5;66;03m# Load Course Numerical Dataset\u001B[39;00m\n\u001B[0;32m----> 2\u001B[0m df \u001B[38;5;241m=\u001B[39m pd\u001B[38;5;241m.\u001B[39mread_csv(\u001B[38;5;124m'\u001B[39m\u001B[38;5;124mdata/distance_dataset.csv\u001B[39m\u001B[38;5;124m'\u001B[39m,index_col\u001B[38;5;241m=\u001B[39m\u001B[38;5;241m0\u001B[39m)\n\u001B[1;32m      3\u001B[0m df\u001B[38;5;241m.\u001B[39mhead()\n",
      "\u001B[0;31mNameError\u001B[0m: name 'pd' is not defined"
     ]
    }
   ],
   "source": [
    "# Load Course Numerical Dataset\n",
    "df = pd.read_csv('data/distance_dataset.csv',index_col=0)\n",
    "df.head()"
   ]
  },
  {
   "cell_type": "code",
   "outputs": [],
   "source": [
    "g = sns.PairGrid(df)\n",
    "g.map_upper(sns.kdeplot)\n",
    "g.map_lower(sns.scatterplot)\n",
    "g.map_diag(sns.histplot);  # Pair plot of the DataFrame df"
   ],
   "metadata": {
    "collapsed": false,
    "ExecuteTime": {
     "end_time": "2024-04-03T18:47:33.525820Z",
     "start_time": "2024-04-03T18:47:33.525772Z"
    }
   },
   "execution_count": null
  },
  {
   "cell_type": "markdown",
   "metadata": {},
   "source": [
    "### Euclidean Distance\n",
    "\n",
    "Let's visualize the difference between the Euclidean and Manhattan distance.\n",
    "\n",
    "We are using Pandas to load our dataset .CSV file and use Numpy to compute the __Euclidean distance__ to the point (Y=5, Z=5) that we choose as reference. On the left here we show the dataset projected onto the YZ plane and color coded per the Euclidean distance we just computed. As we are used to, points that lie at the same Euclidean distance define a regular 2D circle of radius that distance.\n",
    "\n",
    "Note that the __SciPy library__ comes with optimized functions written in C to compute distances (in the scipy.spatial.distance module) that are much faster than our (naive) implementation."
   ]
  },
  {
   "cell_type": "code",
   "execution_count": null,
   "metadata": {},
   "outputs": [],
   "source": [
    "# In the Y-Z plane, we compute the distance to ref point (5,5)\n",
    "distEuclid = np.sqrt((df.Z - 5)**2 + (df.Y - 5)**2)\n",
    "distEuclid.head()"
   ]
  },
  {
   "cell_type": "markdown",
   "metadata": {
    "tags": []
   },
   "source": [
    "**<font color='teal'>Create a distance to reference point (3,3) matrix similar to the above example.</font>**"
   ]
  },
  {
   "cell_type": "code",
   "execution_count": null,
   "metadata": {
    "tags": []
   },
   "outputs": [],
   "source": [
    "distEuclid3 = np.sqrt((df.Z - 3)**2 + (df.Y - 3)**2)\n",
    "distEuclid3.head()"
   ]
  },
  {
   "cell_type": "markdown",
   "metadata": {
    "tags": []
   },
   "source": [
    "**<font color='teal'>Replace the value set to 'c' in the plotting cell below with your own distance matrix and review the result to deepen your understanding of Euclidean distances. </font>**"
   ]
  },
  {
   "cell_type": "code",
   "execution_count": null,
   "metadata": {},
   "outputs": [],
   "source": [
    "figEuclid = plt.figure(figsize=(10,8))\n",
    "plt.set_cmap(\"seismic\")\n",
    "plt.scatter(df.Y - 5, df.Z-5, c=distEuclid, s=20, clim=(0,6))\n",
    "plt.ylim([-4.9,4.9])\n",
    "plt.xlim([-4.9,4.9])\n",
    "plt.xlabel('Y - 5', size=14)\n",
    "plt.ylabel('Z - 5', size=14)\n",
    "plt.title('Euclidean Distance')\n",
    "cb = plt.colorbar()\n",
    "cb.set_label('Distance from (5,5)', size=14)\n",
    "\n",
    "#figEuclid.savefig('plots/Euclidean.png')"
   ]
  },
  {
   "cell_type": "code",
   "outputs": [],
   "source": [
    "figEuclid3 = plt.figure(figsize=(10,8))\n",
    "\n",
    "plt.scatter(df.Y - 5, df.Z - 5, c=distEuclid3, s=20, clim=(0,6))\n",
    "plt.ylim([-4.9,4.9])\n",
    "plt.xlim([-4.9,4.9])\n",
    "plt.xlabel('Y - 5', size=14)\n",
    "plt.ylabel('Z - 5', size=14)\n",
    "plt.title('Euclidean Distance')\n",
    "cb = plt.colorbar()\n",
    "cb.set_label('Distance from (3,3)', size=14)\n",
    "\n",
    "plt.text(3 - 5, 3 - 5, \" (3,3)\", size=14, verticalalignment='center', color='red')\n",
    "plt.scatter(3 - 5, 3 - 5, marker='x', s=30, c='r');"
   ],
   "metadata": {
    "collapsed": false
   },
   "execution_count": null
  },
  {
   "cell_type": "markdown",
   "metadata": {},
   "source": [
    "### Manhattan Distance\n",
    "\n",
    "Manhattan distance is simply the sum of absolute differences between the points coordinates. This distance is also known as the taxicab or city block distance as it measure distances along the coorinate axis which creates \"paths\" that look like a cab's route on a grid-style city map.\n",
    "\n",
    "We display the dataset projected on the XZ plane here color coded per the Manhattan distance to the (X=5, Z=5) reference point. We can see that points laying at the same distance define a circle that looks like a Euclidean square."
   ]
  },
  {
   "cell_type": "code",
   "execution_count": null,
   "metadata": {},
   "outputs": [],
   "source": [
    "# In the Y-Z plane, we compute the distance to ref point (5,5)\n",
    "distManhattan = np.abs(df.X - 5) + np.abs(df.Z - 5)\n",
    "distManhattan.head()"
   ]
  },
  {
   "cell_type": "code",
   "outputs": [],
   "source": [
    "figManhattan = plt.figure(figsize=(10,8))\n",
    "plt.scatter(df.X - 5, df.Z - 5, c=distManhattan, s=20, clim=(0,6))\n",
    "plt.ylim([-4.9,4.9])\n",
    "plt.xlim([-4.9,4.9])\n",
    "plt.xlabel('X - 5', size=14)\n",
    "plt.ylabel('Z - 5', size=14)\n",
    "plt.title('Manhattan Distance')\n",
    "cb = plt.colorbar()\n",
    "cb.set_label('Distance from (5,5)', size=14)"
   ],
   "metadata": {
    "collapsed": false
   },
   "execution_count": null
  },
  {
   "cell_type": "markdown",
   "metadata": {
    "tags": []
   },
   "source": [
    "**<font color='teal'>Create a Manhattan distance to reference point (4,4) matrix similar to the above example and replace the value for 'c' in the plotting cell to view the result.</font>**"
   ]
  },
  {
   "cell_type": "code",
   "execution_count": null,
   "metadata": {},
   "outputs": [],
   "source": [
    "distManhattan4 = np.abs(df.X - 4) + np.abs(df.Z - 4)\n",
    "distManhattan4.head()"
   ]
  },
  {
   "cell_type": "code",
   "outputs": [],
   "source": [
    "figManhattan4 = plt.figure(figsize=(10,8))\n",
    "plt.scatter(df.X - 5, df.Z - 5, c=distManhattan4, s=20, clim=(0,6))\n",
    "plt.ylim([-4.9,4.9])\n",
    "plt.xlim([-4.9,4.9])\n",
    "plt.xlabel('X - 5', size=14)\n",
    "plt.ylabel('Z - 5', size=14)\n",
    "plt.title('Manhattan Distance')\n",
    "cb = plt.colorbar()\n",
    "cb.set_label('Distance from (4,4)', size=14)\n",
    "\n",
    "plt.scatter(4 - 5, 4 - 5, marker='x', s=30, c='g', label=\"Point at (X,Z)=(4,4)\")\n",
    "plt.plot([x-5 for x in [1, 4, 7, 4, 1]], \n",
    "         [y-5 for y in [4, 7, 4, 1, 4]], \n",
    "         c='g', \n",
    "         linewidth=1, \n",
    "         linestyle='dashed', \n",
    "         label=\"Points 3 Units Manhattan Distance Away\"\n",
    "         )\n",
    "plt.legend(loc='lower center');"
   ],
   "metadata": {
    "collapsed": false
   },
   "execution_count": null
  },
  {
   "cell_type": "markdown",
   "metadata": {},
   "source": [
    "Now let's create distributions of these distance metrics and compare them. We leverage the scipy dist function to create these matrices similar to how you manually created them earlier in the exercise."
   ]
  },
  {
   "cell_type": "code",
   "execution_count": null,
   "metadata": {},
   "outputs": [],
   "source": [
    "import scipy.spatial.distance as dist\n",
    "\n",
    "mat = df[['X','Y','Z']].to_numpy()\n",
    "DistEuclid = dist.pdist(mat,'euclidean')\n",
    "DistManhattan = dist.pdist(mat, 'cityblock')\n",
    "largeMat = np.random.random((10000,100))"
   ]
  },
  {
   "cell_type": "code",
   "outputs": [],
   "source": [
    "mat.shape, DistEuclid.shape, DistManhattan.shape, largeMat.shape"
   ],
   "metadata": {
    "collapsed": false
   },
   "execution_count": null
  },
  {
   "cell_type": "markdown",
   "metadata": {
    "tags": []
   },
   "source": [
    "**<font color='teal'>Plot histograms of each distance matrix for comparison.</font>**"
   ]
  },
  {
   "cell_type": "code",
   "execution_count": null,
   "metadata": {},
   "outputs": [],
   "source": [
    "plt.hist([DistEuclid, DistManhattan], bins=range(16), label=['Euclidean', 'Manhattan'], density=True)\n",
    "plt.legend()\n",
    "plt.title('Comparison of Pairwise Distances, Euclidean & Manhattan')\n",
    "plt.xlabel(\"Pairwise Distance\")\n",
    "plt.ylabel(\"Density\");"
   ]
  },
  {
   "cell_type": "code",
   "outputs": [],
   "source": [
    "plt.hist(DistEuclid, bins=64)\n",
    "plt.title(\"Euclidean Pairwise Distances\")\n",
    "plt.show()\n",
    "plt.hist(DistManhattan, bins=64,  color='b')\n",
    "plt.title(\"Manhattan Pairwise Distances\")\n",
    "plt.show()"
   ],
   "metadata": {
    "collapsed": false
   },
   "execution_count": null
  }
 ],
 "metadata": {
  "anaconda-cloud": {},
  "deepnote_execution_queue": [],
  "kernelspec": {
   "display_name": "Python 3",
   "language": "python",
   "name": "python3"
  },
  "language_info": {
   "codemirror_mode": {
    "name": "ipython",
    "version": 3
   },
   "file_extension": ".py",
   "mimetype": "text/x-python",
   "name": "python",
   "nbconvert_exporter": "python",
   "pygments_lexer": "ipython3",
   "version": "3.7.4"
  }
 },
 "nbformat": 4,
 "nbformat_minor": 4
}
